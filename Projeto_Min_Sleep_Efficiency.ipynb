{
  "nbformat": 4,
  "nbformat_minor": 0,
  "metadata": {
    "colab": {
      "provenance": [],
      "authorship_tag": "ABX9TyMyUCuCFVRcidminMH3rgtU",
      "include_colab_link": true
    },
    "kernelspec": {
      "name": "python3",
      "display_name": "Python 3"
    },
    "language_info": {
      "name": "python"
    }
  },
  "cells": [
    {
      "cell_type": "markdown",
      "metadata": {
        "id": "view-in-github",
        "colab_type": "text"
      },
      "source": [
        "<a href=\"https://colab.research.google.com/github/thainazanfolin/min_sleep_efficiency/blob/main/Projeto_Min_Sleep_Efficiency.ipynb\" target=\"_parent\"><img src=\"https://colab.research.google.com/assets/colab-badge.svg\" alt=\"Open In Colab\"/></a>"
      ]
    },
    {
      "cell_type": "markdown",
      "source": [
        "todo: ESCREVER INFORMAÇÃO INICIAIS\n"
      ],
      "metadata": {
        "id": "qEYA3cOL_gVT"
      }
    },
    {
      "cell_type": "markdown",
      "source": [
        "Vamos importar a nossa base de dados. Optamos por trazer por URL para facilitar o trabalho de todos os membros da equipe em um só colab. <br> Porém, também pode ser feito subindo a base aqui no Colab, normalmente. <br>\n",
        "Vamos começar!"
      ],
      "metadata": {
        "id": "93ab2BR3_k9i"
      }
    },
    {
      "cell_type": "code",
      "execution_count": 4,
      "metadata": {
        "colab": {
          "base_uri": "https://localhost:8080/"
        },
        "id": "VCFLpX2Y9Uws",
        "outputId": "003d2550-a1ef-4aa2-db32-69c5f264c533"
      },
      "outputs": [
        {
          "output_type": "stream",
          "name": "stdout",
          "text": [
            "     ID  Age  Gender           Bedtime       Wakeup time  Sleep duration  \\\n",
            "0     1   65  Female  06/03/2021 01:00  06/03/2021 07:00             6.0   \n",
            "1     2   69    Male  05/12/2021 02:00  05/12/2021 09:00             7.0   \n",
            "2     3   40  Female  25/05/2021 21:30  25/05/2021 05:30             8.0   \n",
            "3     4   40  Female  03/11/2021 02:30  03/11/2021 08:30             6.0   \n",
            "4     5   57    Male  13/03/2021 01:00  13/03/2021 09:00             8.0   \n",
            "..  ...  ...     ...               ...               ...             ...   \n",
            "95   96   61  Female  10/07/2021 02:00  10/07/2021 09:00             7.0   \n",
            "96   97   41    Male  15/02/2021 21:00  15/02/2021 04:00             7.0   \n",
            "97   98   53    Male  02/11/2021 23:00  02/11/2021 06:30             7.5   \n",
            "98   99   32  Female  12/01/2021 02:00  12/01/2021 11:00             9.0   \n",
            "99  100   65    Male  07/12/2021 01:30  07/12/2021 09:30             8.0   \n",
            "\n",
            "    Sleep efficiency  REM sleep percentage  Deep sleep percentage  \\\n",
            "0               0.88                    18                     70   \n",
            "1               0.66                    19                     28   \n",
            "2               0.89                    20                     70   \n",
            "3               0.51                    23                     25   \n",
            "4               0.76                    27                     55   \n",
            "..               ...                   ...                    ...   \n",
            "95              0.73                    20                     67   \n",
            "96              0.96                    28                     55   \n",
            "97              0.91                    22                     57   \n",
            "98              0.80                    20                     67   \n",
            "99              0.77                    20                     70   \n",
            "\n",
            "    Light sleep percentage  Awakenings  Caffeine consumption  \\\n",
            "0                       12         0.0                   0.0   \n",
            "1                       53         3.0                   0.0   \n",
            "2                       10         1.0                   0.0   \n",
            "3                       52         3.0                  50.0   \n",
            "4                       18         3.0                   0.0   \n",
            "..                     ...         ...                   ...   \n",
            "95                      13         1.0                  25.0   \n",
            "96                      17         0.0                 200.0   \n",
            "97                      21         1.0                  25.0   \n",
            "98                      13         2.0                  25.0   \n",
            "99                      10         4.0                   0.0   \n",
            "\n",
            "    Alcohol consumption Smoking status  Exercise frequency  \n",
            "0                   0.0            Yes                 3.0  \n",
            "1                   3.0            Yes                 3.0  \n",
            "2                   0.0             No                 3.0  \n",
            "3                   5.0            Yes                 1.0  \n",
            "4                   3.0             No                 3.0  \n",
            "..                  ...            ...                 ...  \n",
            "95                  2.0            Yes                 0.0  \n",
            "96                  0.0             No                 3.0  \n",
            "97                  0.0             No                 2.0  \n",
            "98                  0.0             No                 0.0  \n",
            "99                  0.0             No                 3.0  \n",
            "\n",
            "[100 rows x 15 columns]\n"
          ]
        }
      ],
      "source": [
        "import pandas as pd\n",
        "\n",
        "url = 'https://raw.githubusercontent.com/thainazanfolin/min_sleep_efficiency/refs/heads/main/Sleep_Efficiency_table.csv'\n",
        "df = pd.read_csv(url, delimiter=';')\n",
        "\n",
        "# Verifique as primeiras linhas do DataFrame\n",
        "print(df.head(100))\n"
      ]
    },
    {
      "cell_type": "markdown",
      "source": [],
      "metadata": {
        "id": "Dv9Y5RCK_eVn"
      }
    }
  ]
}