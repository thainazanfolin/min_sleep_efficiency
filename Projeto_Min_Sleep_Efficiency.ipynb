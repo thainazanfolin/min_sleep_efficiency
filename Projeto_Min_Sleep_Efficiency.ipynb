{
  "nbformat": 4,
  "nbformat_minor": 0,
  "metadata": {
    "colab": {
      "provenance": [],
      "authorship_tag": "ABX9TyMCUIp8z+oQsruS5fYpIplS",
      "include_colab_link": true
    },
    "kernelspec": {
      "name": "python3",
      "display_name": "Python 3"
    },
    "language_info": {
      "name": "python"
    }
  },
  "cells": [
    {
      "cell_type": "markdown",
      "metadata": {
        "id": "view-in-github",
        "colab_type": "text"
      },
      "source": [
        "<a href=\"https://colab.research.google.com/github/thainazanfolin/min_sleep_efficiency/blob/main/Projeto_Min_Sleep_Efficiency.ipynb\" target=\"_parent\"><img src=\"https://colab.research.google.com/assets/colab-badge.svg\" alt=\"Open In Colab\"/></a>"
      ]
    },
    {
      "cell_type": "markdown",
      "source": [
        "\n",
        "\n",
        "# Projeto de Análise de dados: como os fatores de Estilo de Vida influenciam a Eficiência do Sono\n",
        "\n",
        "- [Link do dataset no Kaggle](https://www.kaggle.com/datasets/equilibriumm/sleep-efficiency/data)\n",
        "\n",
        "## Objetivo do projeto\n",
        "Realizar uma análise sobre como diferentes hábitos podem ou não afetar a eficiência do sono, considerando tempo de sono e também sua qualidade.\n",
        "\n",
        "## Sobre o Conjunto de Dados\n",
        "O conjunto de dados contém informações sobre um grupo de sujeitos de teste e seus padrões de sono.\n",
        "- **Subject ID**: Identificação exclusiva de cada sujeito, com idade e gênero registrados.\n",
        "- **Bedtime**: Hora em que cada sujeito vai para a cama.\n",
        "- **Wakeup time**: Hora em que cada sujeito acorda.\n",
        "- **Sleep duration**: Total de tempo dormido em horas.\n",
        "- **Sleep efficiency**: Proporção do tempo na cama que foi realmente gasto dormindo.\n",
        "- **REM sleep percentage**: Tempo gasto em sono REM.\n",
        "- **Deep sleep percentage**: Tempo gasto em sono profundo.\n",
        "- **Light sleep percentage**: Tempo gasto em sono leve.\n",
        "- **Awakenings**: Número de vezes que cada sujeito acorda durante a noite.\n",
        "- **Caffeine consumption**: Consumo de cafeína nas 24 horas anteriores à hora de dormir. (mg)\n",
        "- **Alcohol consumption**: Consumo de álcool nas 24 horas anteriores à hora de dormir. (oz)\n",
        "- **Smoking status**: Estado de fumante de cada sujeito.\n",
        "- **Exercise frequency**: Frequência de exercícios de cada sujeito. (horas)\n",
        "\n"
      ],
      "metadata": {
        "id": "qEYA3cOL_gVT"
      }
    },
    {
      "cell_type": "markdown",
      "source": [
        "## Vamos importar a nossa base de dados.\n",
        " Optamos por trazer por URL para facilitar o trabalho de todos os membros da equipe em um só colab. <br> Porém, também pode ser feito subindo a base aqui no Colab, normalmente. <br><br>\n",
        "Vamos começar!"
      ],
      "metadata": {
        "id": "93ab2BR3_k9i"
      }
    },
    {
      "cell_type": "code",
      "source": [
        "#importando as bibliotecas necessárias\n",
        "import pandas as pd\n",
        "import time\n",
        "import matplotlib.pyplot as plt\n",
        "import math\n",
        "import numpy as np\n",
        "import seaborn as sns\n",
        "\n"
      ],
      "metadata": {
        "id": "FvK3mnnjZmj7"
      },
      "execution_count": 30,
      "outputs": []
    },
    {
      "cell_type": "code",
      "execution_count": 31,
      "metadata": {
        "colab": {
          "base_uri": "https://localhost:8080/"
        },
        "id": "VCFLpX2Y9Uws",
        "outputId": "14df33a2-0c68-485e-e99b-3dfd7afd2442"
      },
      "outputs": [
        {
          "output_type": "stream",
          "name": "stdout",
          "text": [
            "   ID  Age  Gender           Bedtime       Wakeup time  Sleep duration  \\\n",
            "0   1   65  Female  06/03/2021 01:00  06/03/2021 07:00             6.0   \n",
            "1   2   69    Male  05/12/2021 02:00  05/12/2021 09:00             7.0   \n",
            "2   3   40  Female  25/05/2021 21:30  25/05/2021 05:30             8.0   \n",
            "3   4   40  Female  03/11/2021 02:30  03/11/2021 08:30             6.0   \n",
            "4   5   57    Male  13/03/2021 01:00  13/03/2021 09:00             8.0   \n",
            "5   6   36  Female  01/07/2021 21:00  01/07/2021 04:30             7.5   \n",
            "6   7   27  Female  21/07/2021 21:00  21/07/2021 03:00             6.0   \n",
            "7   8   53    Male  16/08/2021 00:30  16/08/2021 10:30            10.0   \n",
            "8   9   41  Female  05/04/2021 02:30  05/04/2021 08:30             6.0   \n",
            "9  10   11  Female  16/09/2021 01:00  16/09/2021 10:00             9.0   \n",
            "\n",
            "   Sleep efficiency  REM sleep percentage  Deep sleep percentage  \\\n",
            "0              0.88                    18                     70   \n",
            "1              0.66                    19                     28   \n",
            "2              0.89                    20                     70   \n",
            "3              0.51                    23                     25   \n",
            "4              0.76                    27                     55   \n",
            "5              0.90                    23                     60   \n",
            "6              0.54                    28                     25   \n",
            "7              0.90                    28                     52   \n",
            "8              0.79                    28                     55   \n",
            "9              0.55                    18                     37   \n",
            "\n",
            "   Light sleep percentage  Awakenings  Caffeine consumption  \\\n",
            "0                      12         0.0                   0.0   \n",
            "1                      53         3.0                   0.0   \n",
            "2                      10         1.0                   0.0   \n",
            "3                      52         3.0                  50.0   \n",
            "4                      18         3.0                   0.0   \n",
            "5                      17         0.0                   NaN   \n",
            "6                      47         2.0                  50.0   \n",
            "7                      20         0.0                  50.0   \n",
            "8                      17         3.0                  50.0   \n",
            "9                      45         4.0                   0.0   \n",
            "\n",
            "   Alcohol consumption Smoking status  Exercise frequency  \n",
            "0                  0.0            Yes                 3.0  \n",
            "1                  3.0            Yes                 3.0  \n",
            "2                  0.0             No                 3.0  \n",
            "3                  5.0            Yes                 1.0  \n",
            "4                  3.0             No                 3.0  \n",
            "5                  0.0             No                 1.0  \n",
            "6                  0.0            Yes                 1.0  \n",
            "7                  0.0            Yes                 3.0  \n",
            "8                  0.0             No                 1.0  \n",
            "9                  0.0             No                 0.0  \n"
          ]
        }
      ],
      "source": [
        "# trazendo o database de uma url externa\n",
        "\n",
        "url = 'https://raw.githubusercontent.com/thainazanfolin/min_sleep_efficiency/refs/heads/main/Sleep_Efficiency_table.csv'\n",
        "df = pd.read_csv(url, delimiter=';')\n",
        "\n",
        "# Verifique as primeiras linhas do DataFrame\n",
        "print(df.head(10))\n"
      ]
    },
    {
      "cell_type": "code",
      "source": [
        "# Observando as informações gerais sobre o dataset, incluindo tipos de dados e valores nulos\n",
        "df.info()\n",
        "\n",
        "print('-------')\n",
        "\n",
        "# Verificar se há linhas duplicadas\n",
        "linhas_duplicadas = df.duplicated().sum()\n",
        "print(f\"Número de linhas duplicadas: {linhas_duplicadas}\")\n"
      ],
      "metadata": {
        "colab": {
          "base_uri": "https://localhost:8080/"
        },
        "id": "w_HaenQsY84w",
        "outputId": "a8362e19-d245-4618-c35c-8f0def6092ec"
      },
      "execution_count": 32,
      "outputs": [
        {
          "output_type": "stream",
          "name": "stdout",
          "text": [
            "<class 'pandas.core.frame.DataFrame'>\n",
            "RangeIndex: 452 entries, 0 to 451\n",
            "Data columns (total 15 columns):\n",
            " #   Column                  Non-Null Count  Dtype  \n",
            "---  ------                  --------------  -----  \n",
            " 0   ID                      452 non-null    int64  \n",
            " 1   Age                     452 non-null    int64  \n",
            " 2   Gender                  452 non-null    object \n",
            " 3   Bedtime                 452 non-null    object \n",
            " 4   Wakeup time             452 non-null    object \n",
            " 5   Sleep duration          452 non-null    float64\n",
            " 6   Sleep efficiency        452 non-null    float64\n",
            " 7   REM sleep percentage    452 non-null    int64  \n",
            " 8   Deep sleep percentage   452 non-null    int64  \n",
            " 9   Light sleep percentage  452 non-null    int64  \n",
            " 10  Awakenings              432 non-null    float64\n",
            " 11  Caffeine consumption    427 non-null    float64\n",
            " 12  Alcohol consumption     438 non-null    float64\n",
            " 13  Smoking status          452 non-null    object \n",
            " 14  Exercise frequency      446 non-null    float64\n",
            "dtypes: float64(6), int64(5), object(4)\n",
            "memory usage: 53.1+ KB\n",
            "-------\n",
            "Número de linhas duplicadas: 0\n"
          ]
        }
      ]
    },
    {
      "cell_type": "markdown",
      "source": [
        "A partir das informações da tabela conseguimos verificar que:\n",
        "\n",
        "* existem **452 registros** totais\n",
        "* nas colunas 'Awakenings', 'Caffeine consumption', 'Alcohol consumption' e 'Exercise frequency' **existem dados faltantes (nulos)**\n",
        "* não existem linhas duplicadas   \n",
        "\n",
        "Vamos trazer mais dados sobre os valores nulos para decidir como vamos fazer a limpeza dos dados."
      ],
      "metadata": {
        "id": "H5NvygM8Z9fp"
      }
    },
    {
      "cell_type": "code",
      "source": [
        "#vamos ver quantos nulos temos em cada coluna\n",
        "\n",
        "null_awakenings = df['Awakenings'].isnull().sum()\n",
        "print(f\"Número de nulos em Awakenings: {null_awakenings}\")\n",
        "\n",
        "null_caffeine = df['Caffeine consumption'].isnull().sum()\n",
        "print(f\"Número de nulos em Caffeine consumption: {null_caffeine}\")\n",
        "\n",
        "null_alcohol = df['Alcohol consumption'].isnull().sum()\n",
        "print(f\"Número de nulos em Alcohol consumption: {null_alcohol}\")\n",
        "\n",
        "null_exercise = df['Exercise frequency'].isnull().sum()\n",
        "print(f\"Número de nulos em Exercise frequency: {null_exercise}\")\n",
        "\n",
        "\n",
        "# Total de nulos no dataframe\n",
        "sum_null = sum([null_awakenings, null_caffeine, null_alcohol, null_exercise])\n",
        "print(f\"Total de nulos no dataframe: {sum_null}\")\n"
      ],
      "metadata": {
        "colab": {
          "base_uri": "https://localhost:8080/"
        },
        "id": "eF-Vj12_afNv",
        "outputId": "b999d49d-5286-437f-dcbc-443f52ffd83f"
      },
      "execution_count": 33,
      "outputs": [
        {
          "output_type": "stream",
          "name": "stdout",
          "text": [
            "Número de nulos em Awakenings: 20\n",
            "Número de nulos em Caffeine consumption: 25\n",
            "Número de nulos em Alcohol consumption: 14\n",
            "Número de nulos em Exercise frequency: 6\n",
            "Total de nulos no dataframe: 65\n"
          ]
        }
      ]
    },
    {
      "cell_type": "markdown",
      "source": [
        "Como vimos, temos o total de 65 valores em branco no dataframe. Nossas opções para limpar esses dados são:\n",
        "\n",
        "1. excluir as linhas com dados faltantes\n",
        "2. preencher os dados faltantes com a média dos outros valores (verificar se faz sentido)\n",
        "3. preencher os dados faltantes com o dado presente em outro caso semelhante (podemos fazer um order by por idade e genero, por exemplo, e trazer o mesmo dado).\n",
        "\n",
        "Considerando que nossa database tem poucos registros, vamos fazer a opção 1 e 2, para não perder registros. Porém, vamos verificar o dado faltante de acordo com a coluna. <br><br>\n",
        "\n",
        "Vamos retomar as informações da database, considerando o que nossas colunas trazem:\n",
        "* Awakenings: Número de vezes que cada sujeito acorda durante a noite\n",
        "<br>**(é possível fazer uma média entre todos e preencher)** <br><br>\n",
        "\n",
        "* Caffeine consumption: Consumo de cafeína nas 24 horas anteriores à hora de dormir.\n",
        "<br>**(é possível fazer uma média entre todos e preencher, porém é importante verificar antes a quantidade de ZEROS presentes, pois a média pode não representar a realidade. Interessante talvez saber se a maioria é 0, se sim, podemos preencher com zeros)** <br><br>\n",
        "\n",
        "* Alcohol consumption: Consumo de álcool nas 24 horas anteriores à hora de dormir. <br>**(é possível fazer uma média entre todos e preencher, porém é importante verificar antes a quantidade de ZEROS presentes, pois a média pode não representar a realidade. Interessante talvez saber se a maioria é 0, se sim, podemos preencher com zeros)**<br><br>\n",
        "\n",
        "* Exercise frequency: Frequência de exercícios de cada sujeito.\n",
        "<br>**(é possível fazer uma média entre todos e preencher)**\n",
        "<br> **(vale observar que a única coluna com um volume baixo de linhas faltantes é o 'Exercise frequency'. valeria apagar apenas os registros com essa coluna nula?)** <br>\n",
        "\n",
        "\n"
      ],
      "metadata": {
        "id": "88VVb0hYcJin"
      }
    },
    {
      "cell_type": "code",
      "source": [
        "# todo: fazer aqui o que está acima em blocos separados\n",
        "# BLOCO Awakenings: é possível fazer uma média entre todos e preencher\n",
        "\n",
        "aw_size_original = df['Awakenings'].count()\n",
        "print(f'Tamanho original da coluna Awakenings: {aw_size_original}')\n",
        "print('--------')\n",
        "\n",
        "#Calculando a média de vezes que as pessoas acordam durante a noite\n",
        "awakenings_total = df['Awakenings'].sum()\n",
        "media_aw = awakenings_total / df['Awakenings'].size\n",
        "media_aw = math.ceil(media_aw)\n",
        "\n",
        "print(f'Média de vezes que as pessoas despertaram: {media_aw}')\n",
        "print('--------')\n",
        "\n",
        "# A MÉDIA DE VEZES QUE AS PESSOAS ACORDAM DURANTE A NOITE É DE 2x\n",
        "\n",
        "# Preencher os valores nulos com a média\n",
        "df['Awakenings'] = df['Awakenings'].fillna(media_aw)\n",
        "\n",
        "# Verificar se os valores nulos foram preenchidos\n",
        "print('Total de registros com os nulos preenchidos:')\n",
        "\n",
        "print(df['Awakenings'].count())\n",
        "print('--------')\n",
        "\n",
        "\n"
      ],
      "metadata": {
        "id": "sXa2kHd0hC97",
        "outputId": "4fc8e8e5-97a4-46f8-8655-1c3b532b8b2a",
        "colab": {
          "base_uri": "https://localhost:8080/"
        }
      },
      "execution_count": 45,
      "outputs": [
        {
          "output_type": "stream",
          "name": "stdout",
          "text": [
            "Tamanho original da coluna Awakenings: 452\n",
            "--------\n",
            "Média de vezes que as pessoas despertaram: 2\n",
            "--------\n",
            "Total de registros com os nulos preenchidos:\n",
            "452\n",
            "--------\n"
          ]
        }
      ]
    },
    {
      "cell_type": "code",
      "source": [
        "# BLOCO Caffeine consumption: é possível fazer uma média entre todos e preencher.\n",
        "# Porém é importante verificar antes a quantidade de ZEROS presentes,\n",
        "# pois a média pode não representar a realidade. Interessante talvez saber se a maioria é 0, se sim, podemos preencher com zeros\n",
        "\n",
        "# todo: somar a quantidade de zeros nessa coluna para avaliar\n",
        "\n",
        "\n",
        "\n",
        "\n"
      ],
      "metadata": {
        "id": "TRXhlfmojiy8"
      },
      "execution_count": 35,
      "outputs": []
    },
    {
      "cell_type": "code",
      "source": [
        "# BLOCO Alcohol consumption: é possível fazer uma média entre todos e preencher, porém é importante verificar antes a quantidade de ZEROS presentes,\n",
        "# pois a média pode não representar a realidade. Interessante talvez saber se a maioria é 0, se sim, podemos preencher com zeros)\n",
        "\n",
        "# todo\n",
        "\n",
        "# todo: somar a quantidade de zeros nessa coluna para avaliar\n"
      ],
      "metadata": {
        "id": "jbjPfQNbjnzA"
      },
      "execution_count": 36,
      "outputs": []
    },
    {
      "cell_type": "code",
      "source": [
        "# BLOCO Exercise frequency: (é possível fazer uma média entre todos e preencher)"
      ],
      "metadata": {
        "id": "7AFZolFijrJf"
      },
      "execution_count": 37,
      "outputs": []
    },
    {
      "cell_type": "markdown",
      "source": [
        "Ainda focando em melhorar o dataframe, vimos que as colunas \"Waketime\" e \"Bedtime\" não estão no forma datetime, o que pode ser útil em uma análise futura. Vamos fazer essa conversão."
      ],
      "metadata": {
        "id": "zWC7d6J1hFNY"
      }
    },
    {
      "cell_type": "code",
      "source": [
        "df['Bedtime'] = pd.to_datetime(df['Bedtime'], errors='coerce')\n",
        "df['Wakeup time'] = pd.to_datetime(df['Wakeup time'], errors='coerce')\n",
        "\n",
        "# vamos verificar se o Dtype dessas colunas mudaram de fato\n",
        "\n",
        "# Selecionando as colunas desejadas\n",
        "colunas_datatime = ['Bedtime', 'Wakeup time']\n",
        "df_selecionado = df[colunas_datatime]\n",
        "\n",
        "# Chamando o método info() no DataFrame selecionado\n",
        "df_selecionado.info()\n"
      ],
      "metadata": {
        "colab": {
          "base_uri": "https://localhost:8080/"
        },
        "id": "nCtm6yJXhZbu",
        "outputId": "fec291ff-a0c6-431b-bd57-42f48a1948aa"
      },
      "execution_count": 38,
      "outputs": [
        {
          "output_type": "stream",
          "name": "stdout",
          "text": [
            "<class 'pandas.core.frame.DataFrame'>\n",
            "RangeIndex: 452 entries, 0 to 451\n",
            "Data columns (total 2 columns):\n",
            " #   Column       Non-Null Count  Dtype         \n",
            "---  ------       --------------  -----         \n",
            " 0   Bedtime      189 non-null    datetime64[ns]\n",
            " 1   Wakeup time  189 non-null    datetime64[ns]\n",
            "dtypes: datetime64[ns](2)\n",
            "memory usage: 7.2 KB\n"
          ]
        }
      ]
    },
    {
      "cell_type": "markdown",
      "source": [],
      "metadata": {
        "id": "Dv9Y5RCK_eVn"
      }
    },
    {
      "cell_type": "markdown",
      "source": [
        "# Resumo estatístico do Dataframe\n",
        "Com a limpeza dos dados feita, vamos fazer uma análise geral do dataframe, focando em um resumo estatístico. O que pensamos em trazer:\n",
        "\n",
        "# to do: listar as infos que queremos"
      ],
      "metadata": {
        "id": "0wLn4tY49G2_"
      }
    },
    {
      "cell_type": "code",
      "source": [
        "#todo: FAZER ESSA PARTE AQUI\n",
        "\n",
        "df.describe()\n",
        "\n",
        "unique_counts = df.nunique()\n",
        "print(\"Contagem de valores únicos por coluna:\")\n",
        "print(unique_counts)\n",
        "\n",
        "# Exemplo para uma coluna categórica como 'Gender'\n",
        "gender_distribution = df['Gender'].value_counts()\n",
        "print(\"Distribuição por gênero:\")\n",
        "print(gender_distribution)\n",
        "\n",
        "df['Sleep duration'].hist(bins=10, figsize=(8,6))\n",
        "plt.title('Distribuição da Duração do Sono')\n",
        "plt.xlabel('Horas de Sono')\n",
        "plt.ylabel('Frequência')\n",
        "plt.show()\n",
        "\n",
        "\n"
      ],
      "metadata": {
        "id": "HANnqFXd9b8U",
        "outputId": "93ae3c12-897f-417c-a068-4a0153edb987",
        "colab": {
          "base_uri": "https://localhost:8080/",
          "height": 946
        }
      },
      "execution_count": 39,
      "outputs": [
        {
          "output_type": "stream",
          "name": "stdout",
          "text": [
            "Contagem de valores únicos por coluna:\n",
            "ID                        452\n",
            "Age                        61\n",
            "Gender                      2\n",
            "Bedtime                   178\n",
            "Wakeup time               181\n",
            "Sleep duration              9\n",
            "Sleep efficiency           50\n",
            "REM sleep percentage       13\n",
            "Deep sleep percentage      29\n",
            "Light sleep percentage     29\n",
            "Awakenings                  5\n",
            "Caffeine consumption        6\n",
            "Alcohol consumption         6\n",
            "Smoking status              2\n",
            "Exercise frequency          6\n",
            "dtype: int64\n",
            "Distribuição por gênero:\n",
            "Gender\n",
            "Male      228\n",
            "Female    224\n",
            "Name: count, dtype: int64\n"
          ]
        },
        {
          "output_type": "display_data",
          "data": {
            "text/plain": [
              "<Figure size 800x600 with 1 Axes>"
            ],
            "image/png": "[encoded data removed]"
          },
          "metadata": {}
        }
      ]
    }
  ]
}