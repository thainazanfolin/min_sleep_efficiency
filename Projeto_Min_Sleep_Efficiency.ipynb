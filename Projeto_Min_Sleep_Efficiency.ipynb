{
  "nbformat": 4,
  "nbformat_minor": 0,
  "metadata": {
    "colab": {
      "provenance": [],
      "include_colab_link": true
    },
    "kernelspec": {
      "name": "python3",
      "display_name": "Python 3"
    },
    "language_info": {
      "name": "python"
    }
  },
  "cells": [
    {
      "cell_type": "markdown",
      "metadata": {
        "id": "view-in-github",
        "colab_type": "text"
      },
      "source": [
        "<a href=\"https://colab.research.google.com/github/thainazanfolin/min_sleep_efficiency/blob/main/Projeto_Min_Sleep_Efficiency.ipynb\" target=\"_parent\"><img src=\"https://colab.research.google.com/assets/colab-badge.svg\" alt=\"Open In Colab\"/></a>"
      ]
    },
    {
      "cell_type": "markdown",
      "source": [
        "\n",
        "\n",
        "# **Projeto de Análise de dados: como os fatores de Estilo de Vida influenciam a Eficiência do Sono**\n",
        "\n",
        "## Analistas\n",
        "Luiz Fernando Avanelino, Thainá Zanfolin e Vitor Villa Nova<br>\n",
        "FATEC Araras - Aula de Mineração de Dados\n",
        "\n",
        "## Dataset no Kaggle\n",
        "\n",
        "- [Link do dataset no Kaggle](https://www.kaggle.com/datasets/equilibriumm/sleep-efficiency/data)\n",
        "\n",
        "## **Objetivo do projeto**\n",
        "Realizar uma análise sobre como diferentes hábitos podem ou não afetar a eficiência do sono, considerando tempo de sono e também sua qualidade.\n",
        "\n",
        "## **Sobre o Conjunto de Dado**s\n",
        "O conjunto de dados contém informações sobre um grupo de sujeitos de teste e seus padrões de sono.\n",
        "- **Subject ID**: Identificação exclusiva de cada sujeito, com idade e gênero registrados.\n",
        "- **Bedtime**: Hora em que cada sujeito vai para a cama.\n",
        "- **Wakeup time**: Hora em que cada sujeito acorda.\n",
        "- **Sleep duration**: Total de tempo dormido em horas.\n",
        "- **Sleep efficiency**: Proporção do tempo na cama que foi realmente gasto dormindo.\n",
        "- **REM sleep percentage**: Tempo gasto em sono REM.\n",
        "- **Deep sleep percentage**: Tempo gasto em sono profundo.\n",
        "- **Light sleep percentage**: Tempo gasto em sono leve.\n",
        "- **Awakenings**: Número de vezes que cada sujeito acorda durante a noite.\n",
        "- **Caffeine consumption**: Consumo de cafeína nas 24 horas anteriores à hora de dormir. (mg)\n",
        "- **Alcohol consumption**: Consumo de álcool nas 24 horas anteriores à hora de dormir. (oz)\n",
        "- **Smoking status**: Estado de fumante de cada sujeito.\n",
        "- **Exercise frequency**: Frequência de exercícios de cada sujeito. (horas)\n",
        "\n",
        "## **O que esperar deste Colab**:\n",
        "* Análise exploratória dos dados: entender o dataset, quais são suas variáveis e como trabalhar com elas.\n",
        "* Limpeza dos dados: padronizações, exclusão de registros nulos ou duplicados, preenchimento de nulos.\n",
        "* Resumo estatístico: análise de alguns pontos principais do dataset, como valores totais e relações entre algumas das variáveis.\n",
        "\n",
        "Para alguns trechos de código (principalmente os de plotagem de dados), utilizamos auxílio de ferramentas de IA."
      ],
      "metadata": {
        "id": "zjk7B-1du-cJ"
      }
    },
    {
      "cell_type": "markdown",
      "source": [
        "## **Vamos importar a nossa base de dados**\n",
        " Optamos por trazer por URL para facilitar o trabalho de todos os membros da equipe em um só colab. <br> Porém, também pode ser feito subindo a base aqui no Colab, normalmente. <br><br>\n",
        "Vamos começar!"
      ],
      "metadata": {
        "id": "qFE_ULjXu-cK"
      }
    },
    {
      "cell_type": "code",
      "source": [
        "#importando as bibliotecas necessárias\n",
        "import pandas as pd\n",
        "import time\n",
        "import matplotlib.pyplot as plt\n",
        "import math\n",
        "import numpy as np\n",
        "import seaborn as sns\n",
        "import plotly.graph_objects as go\n",
        "\n",
        "\n"
      ],
      "metadata": {
        "id": "52qI5BNyu-cK"
      },
      "execution_count": 125,
      "outputs": []
    },
    {
      "cell_type": "code",
      "execution_count": 126,
      "metadata": {
        "colab": {
          "base_uri": "https://localhost:8080/"
        },
        "outputId": "917384c8-f3a2-498d-9898-d0729711e825",
        "id": "66tRo96-u-cK"
      },
      "outputs": [
        {
          "output_type": "stream",
          "name": "stdout",
          "text": [
            "   ID  Age  Gender           Bedtime       Wakeup time  Sleep duration  \\\n",
            "0   1   65  Female  06/03/2021 01:00  06/03/2021 07:00             6.0   \n",
            "1   2   69    Male  05/12/2021 02:00  05/12/2021 09:00             7.0   \n",
            "2   3   40  Female  25/05/2021 21:30  25/05/2021 05:30             8.0   \n",
            "3   4   40  Female  03/11/2021 02:30  03/11/2021 08:30             6.0   \n",
            "4   5   57    Male  13/03/2021 01:00  13/03/2021 09:00             8.0   \n",
            "5   6   36  Female  01/07/2021 21:00  01/07/2021 04:30             7.5   \n",
            "6   7   27  Female  21/07/2021 21:00  21/07/2021 03:00             6.0   \n",
            "7   8   53    Male  16/08/2021 00:30  16/08/2021 10:30            10.0   \n",
            "8   9   41  Female  05/04/2021 02:30  05/04/2021 08:30             6.0   \n",
            "9  10   11  Female  16/09/2021 01:00  16/09/2021 10:00             9.0   \n",
            "\n",
            "   Sleep efficiency  REM sleep percentage  Deep sleep percentage  \\\n",
            "0              0.88                    18                     70   \n",
            "1              0.66                    19                     28   \n",
            "2              0.89                    20                     70   \n",
            "3              0.51                    23                     25   \n",
            "4              0.76                    27                     55   \n",
            "5              0.90                    23                     60   \n",
            "6              0.54                    28                     25   \n",
            "7              0.90                    28                     52   \n",
            "8              0.79                    28                     55   \n",
            "9              0.55                    18                     37   \n",
            "\n",
            "   Light sleep percentage  Awakenings  Caffeine consumption  \\\n",
            "0                      12         0.0                   0.0   \n",
            "1                      53         3.0                   0.0   \n",
            "2                      10         1.0                   0.0   \n",
            "3                      52         3.0                  50.0   \n",
            "4                      18         3.0                   0.0   \n",
            "5                      17         0.0                   NaN   \n",
            "6                      47         2.0                  50.0   \n",
            "7                      20         0.0                  50.0   \n",
            "8                      17         3.0                  50.0   \n",
            "9                      45         4.0                   0.0   \n",
            "\n",
            "   Alcohol consumption Smoking status  Exercise frequency  \n",
            "0                  0.0            Yes                 3.0  \n",
            "1                  3.0            Yes                 3.0  \n",
            "2                  0.0             No                 3.0  \n",
            "3                  5.0            Yes                 1.0  \n",
            "4                  3.0             No                 3.0  \n",
            "5                  0.0             No                 1.0  \n",
            "6                  0.0            Yes                 1.0  \n",
            "7                  0.0            Yes                 3.0  \n",
            "8                  0.0             No                 1.0  \n",
            "9                  0.0             No                 0.0  \n"
          ]
        }
      ],
      "source": [
        "# trazendo o database de uma url externa\n",
        "\n",
        "url = 'https://raw.githubusercontent.com/thainazanfolin/min_sleep_efficiency/refs/heads/main/Sleep_Efficiency_table.csv'\n",
        "df = pd.read_csv(url, delimiter=';')\n",
        "\n",
        "# Verifique as primeiras linhas do DataFrame\n",
        "print(df.head(10))\n"
      ]
    },
    {
      "cell_type": "markdown",
      "source": [
        "## **Análise Exploratória dos Dados**"
      ],
      "metadata": {
        "id": "JcIiZ_uamLVJ"
      }
    },
    {
      "cell_type": "code",
      "source": [
        "# Observando as informações gerais sobre o dataset, incluindo tipos de dados e valores nulos\n",
        "df.info()\n",
        "\n",
        "print('-------')\n",
        "\n",
        "# Verificar se há linhas duplicadas\n",
        "linhas_duplicadas = df.duplicated().sum()\n",
        "print(f\"Número de linhas duplicadas: {linhas_duplicadas}\")\n"
      ],
      "metadata": {
        "colab": {
          "base_uri": "https://localhost:8080/"
        },
        "outputId": "b85e0f31-a64b-4ea4-d006-a046afa7157a",
        "id": "8lFATpTKu-cL"
      },
      "execution_count": 127,
      "outputs": [
        {
          "output_type": "stream",
          "name": "stdout",
          "text": [
            "<class 'pandas.core.frame.DataFrame'>\n",
            "RangeIndex: 452 entries, 0 to 451\n",
            "Data columns (total 15 columns):\n",
            " #   Column                  Non-Null Count  Dtype  \n",
            "---  ------                  --------------  -----  \n",
            " 0   ID                      452 non-null    int64  \n",
            " 1   Age                     452 non-null    int64  \n",
            " 2   Gender                  452 non-null    object \n",
            " 3   Bedtime                 452 non-null    object \n",
            " 4   Wakeup time             452 non-null    object \n",
            " 5   Sleep duration          452 non-null    float64\n",
            " 6   Sleep efficiency        452 non-null    float64\n",
            " 7   REM sleep percentage    452 non-null    int64  \n",
            " 8   Deep sleep percentage   452 non-null    int64  \n",
            " 9   Light sleep percentage  452 non-null    int64  \n",
            " 10  Awakenings              432 non-null    float64\n",
            " 11  Caffeine consumption    427 non-null    float64\n",
            " 12  Alcohol consumption     438 non-null    float64\n",
            " 13  Smoking status          452 non-null    object \n",
            " 14  Exercise frequency      446 non-null    float64\n",
            "dtypes: float64(6), int64(5), object(4)\n",
            "memory usage: 53.1+ KB\n",
            "-------\n",
            "Número de linhas duplicadas: 0\n"
          ]
        }
      ]
    },
    {
      "cell_type": "markdown",
      "source": [
        "A partir das informações da tabela conseguimos verificar que:\n",
        "\n",
        "* existem **452 registros** totais\n",
        "* nas colunas 'Awakenings', 'Caffeine consumption', 'Alcohol consumption' e 'Exercise frequency' **existem dados faltantes (nulos)**\n",
        "* não existem linhas duplicadas   \n",
        "\n",
        "**Vamos trazer mais dados sobre os valores nulos para decidir como vamos fazer a limpeza dos dados.**"
      ],
      "metadata": {
        "id": "KeFc97pzu-cL"
      }
    },
    {
      "cell_type": "code",
      "source": [
        "#vamos ver quantos nulos temos em cada coluna\n",
        "\n",
        "null_awakenings = df['Awakenings'].isnull().sum()\n",
        "print(f\"Número de nulos em Awakenings: {null_awakenings}\")\n",
        "\n",
        "null_caffeine = df['Caffeine consumption'].isnull().sum()\n",
        "print(f\"Número de nulos em Caffeine consumption: {null_caffeine}\")\n",
        "\n",
        "null_alcohol = df['Alcohol consumption'].isnull().sum()\n",
        "print(f\"Número de nulos em Alcohol consumption: {null_alcohol}\")\n",
        "\n",
        "null_exercise = df['Exercise frequency'].isnull().sum()\n",
        "print(f\"Número de nulos em Exercise frequency: {null_exercise}\")\n",
        "\n",
        "\n",
        "# Total de nulos no dataframe\n",
        "sum_null = sum([null_awakenings, null_caffeine, null_alcohol, null_exercise])\n",
        "print(f\"Total de nulos no dataframe: {sum_null}\")\n"
      ],
      "metadata": {
        "colab": {
          "base_uri": "https://localhost:8080/"
        },
        "outputId": "5e4dbb53-528d-474b-f2b4-c9cdac622ee7",
        "id": "Fjl3yCNhu-cL"
      },
      "execution_count": 128,
      "outputs": [
        {
          "output_type": "stream",
          "name": "stdout",
          "text": [
            "Número de nulos em Awakenings: 20\n",
            "Número de nulos em Caffeine consumption: 25\n",
            "Número de nulos em Alcohol consumption: 14\n",
            "Número de nulos em Exercise frequency: 6\n",
            "Total de nulos no dataframe: 65\n"
          ]
        }
      ]
    },
    {
      "cell_type": "markdown",
      "source": [
        "**Como vimos, temos o total de 65 valores em branco no dataframe.**<br><br>\n",
        "**Nossas opções para limpar esses dados são:**\n",
        "\n",
        "1. excluir as linhas com dados faltantes\n",
        "2. preencher os dados faltantes com a média dos outros valores (verificar se faz sentido)\n",
        "3. preencher os dados faltantes com o dado presente em outro caso semelhante (podemos fazer um order by por idade e genero, por exemplo, e trazer o mesmo dado).\n",
        "\n",
        "Considerando que nossa database tem poucos registros, vamos fazer a opção 1 e 2, para não perder registros. Porém, vamos verificar o dado faltante de acordo com a coluna. <br><br>\n",
        "\n",
        "Vamos retomar as informações da database, considerando o que nossas colunas trazem:\n",
        "* Awakenings: Número de vezes que cada sujeito acorda durante a noite\n",
        "<br>**(é possível fazer uma média entre todos e preencher)** <br><br>\n",
        "\n",
        "* Caffeine consumption: Consumo de cafeína nas 24 horas anteriores à hora de dormir.\n",
        "<br>**(é possível fazer uma média entre todos e preencher, porém é importante verificar antes a quantidade de ZEROS presentes, pois a média pode não representar a realidade. Interessante talvez saber se a maioria é 0, se sim, podemos preencher com zeros)** <br><br>\n",
        "\n",
        "* Alcohol consumption: Consumo de álcool nas 24 horas anteriores à hora de dormir. <br>**(é possível fazer uma média entre todos e preencher, porém é importante verificar antes a quantidade de ZEROS presentes, pois a média pode não representar a realidade. Interessante talvez saber se a maioria é 0, se sim, podemos preencher com zeros)**<br><br>\n",
        "\n",
        "* Exercise frequency: Frequência de exercícios de cada sujeito.\n",
        "<br>**(é possível fazer uma média entre todos e preencher)**\n",
        "<br> **(vale observar que a única coluna com um volume baixo de linhas faltantes é o 'Exercise frequency'. valeria apagar apenas os registros com essa coluna nula?)** <br>\n",
        "\n",
        "\n"
      ],
      "metadata": {
        "id": "nWHkeJZvu-cL"
      }
    },
    {
      "cell_type": "markdown",
      "source": [
        "## **Começando a Limpeza de Dados**"
      ],
      "metadata": {
        "id": "8eYwWmpAmFa8"
      }
    },
    {
      "cell_type": "markdown",
      "source": [
        "### **Coluna Awakening**\n",
        "É possível fazer uma média entre todos e preencher os nulos faltantes"
      ],
      "metadata": {
        "id": "rY1jANZdgO6u"
      }
    },
    {
      "cell_type": "code",
      "source": [
        "# BLOCO Awakenings: é possível fazer uma média entre todos e preencher\n",
        "\n",
        "aw_size_original = df['Awakenings'].count()\n",
        "print(f'Tamanho original da coluna Awakenings: {aw_size_original}')\n",
        "print('--------')\n",
        "\n",
        "#Calculando a média de vezes que as pessoas acordam durante a noite\n",
        "awakenings_total = df['Awakenings'].sum()\n",
        "media_aw = awakenings_total / df['Awakenings'].size\n",
        "media_aw = math.ceil(media_aw) # arredondando\n",
        "\n",
        "print(f'Média de vezes que as pessoas despertaram: {media_aw}')\n",
        "print('--------')\n",
        "\n",
        "# A MÉDIA DE VEZES QUE AS PESSOAS ACORDAM DURANTE A NOITE É DE 2x\n",
        "\n",
        "# Preencher os valores nulos com a média\n",
        "df['Awakenings'] = df['Awakenings'].fillna(media_aw)\n",
        "\n",
        "# Verificar se os valores nulos foram preenchidos\n",
        "print(f\"Total de registros com os nulos preenchidos: {df['Awakenings'].count()} \")\n",
        "\n",
        "print('--------')\n",
        "\n",
        "\n"
      ],
      "metadata": {
        "outputId": "dd3a234a-05c3-4276-e950-750c7735c44f",
        "colab": {
          "base_uri": "https://localhost:8080/"
        },
        "id": "niASv_R9u-cL"
      },
      "execution_count": 129,
      "outputs": [
        {
          "output_type": "stream",
          "name": "stdout",
          "text": [
            "Tamanho original da coluna Awakenings: 432\n",
            "--------\n",
            "Média de vezes que as pessoas despertaram: 2\n",
            "--------\n",
            "Total de registros com os nulos preenchidos: 452 \n",
            "--------\n"
          ]
        }
      ]
    },
    {
      "cell_type": "markdown",
      "source": [
        "### **Coluna Caffeine Consumption <br>**\n",
        "É possível fazer uma média entre todos e preencher.\n",
        "\n",
        "Porém, é importante verificar antes a quantidade de ZEROS presentes,pois a média pode não representar a realidade. Interessante saber se a maioria é 0, se sim, podemos preencher com zeros\n",
        "\n",
        "Somar a quantidade de zeros nessa coluna para avaliar\n"
      ],
      "metadata": {
        "id": "pjT4NJkwgfGq"
      }
    },
    {
      "cell_type": "code",
      "source": [
        "# BLOCO Caffeine consumption: é possível fazer uma média entre todos e preencher.\n",
        "\n",
        "# Porém é importante verificar antes a quantidade de ZEROS presentes,\n",
        "# pois a média pode não representar a realidade. Interessante talvez saber se a maioria é 0, se sim, podemos preencher com zeros\n",
        "\n",
        "# Somar a quantidade de zeros nessa coluna para avaliar\n",
        "\n",
        "cf_size_original = df['Caffeine consumption'].count()\n",
        "print(f'Tamanho original da coluna Caffeine consumption: {cf_size_original}')\n",
        "print('--------')\n",
        "\n",
        "zeros_cafe = (df['Caffeine consumption'] == 0).sum()\n",
        "\n",
        "# Usando a média ponderada como explicado abaixo\n",
        "media_ponderada = (df['Caffeine consumption'] * df['Caffeine consumption']).sum() / df['Caffeine consumption'].sum()\n",
        "\n",
        "print(f\"Quantidade de zeros na coluna Caffeine consumption: {zeros_cafe}\")\n",
        "print('--------')\n",
        "print(\"Como vemos, cerca de metade está zerada, ou seja, pessoas que não consumiram cafeína nas últimas 24 horas. Por isso, resolvemos fazer uma média ponderada\")\n",
        "print('--------')\n",
        "\n",
        "print(f\"Média ponderada da coluna Caffeine consumption: {media_ponderada.round(2)}\")\n",
        "print('--------')\n",
        "\n",
        "df['Caffeine consumption'] = df['Caffeine consumption'].fillna(media_ponderada)\n",
        "\n",
        "# Verificar se os valores nulos foram preenchidos\n",
        "print(f\"Total de registros com os nulos preenchidos: {df['Caffeine consumption'].count()} \")\n",
        "print('--------')\n"
      ],
      "metadata": {
        "colab": {
          "base_uri": "https://localhost:8080/"
        },
        "outputId": "b0f18891-889f-40e6-df0f-57578476c2ba",
        "id": "n0almi3mu-cM"
      },
      "execution_count": 130,
      "outputs": [
        {
          "output_type": "stream",
          "name": "stdout",
          "text": [
            "Tamanho original da coluna Caffeine consumption: 427\n",
            "--------\n",
            "Quantidade de zeros na coluna Caffeine consumption: 211\n",
            "--------\n",
            "Como vemos, cerca de metade está zerada, ou seja, pessoas que não consumiram cafeína nas últimas 24 horas. Por isso, resolvemos fazer uma média ponderada\n",
            "--------\n",
            "Média ponderada da coluna Caffeine consumption: 62.13\n",
            "--------\n",
            "Total de registros com os nulos preenchidos: 452 \n",
            "--------\n"
          ]
        }
      ]
    },
    {
      "cell_type": "markdown",
      "source": [
        "**Escolhemos utilizar a média ponderada para preencher os nulos dessa coluna.**\n",
        "Média Ponderada (ou filtrada) é uma alternativa interessante para calcular a média excluindo os zeros, pois isso representaria melhor o consumo para quem de fato ingere cafeína. Esse método evita que o excesso de zeros distorça o valor médio, mantendo uma aproximação mais realista para os valores nulos."
      ],
      "metadata": {
        "id": "pRdbEBLWqfs5"
      }
    },
    {
      "cell_type": "markdown",
      "source": [
        "### **Coluna Alcohol Consumption**\n",
        "É possível fazer uma média entre todos e preencher, porém é importante verificar antes a quantidade de ZEROS presentes, pois a média pode não representar a realidade. Interessante talvez saber se a maioria é 0, se sim, podemos preencher com zeros\n"
      ],
      "metadata": {
        "id": "AXBvHmPshdpI"
      }
    },
    {
      "cell_type": "code",
      "source": [
        "# BLOCO Alcohol consumption: é possível fazer uma média entre todos e preencher, porém é importante verificar antes a quantidade de ZEROS presentes,\n",
        "# pois a média pode não representar a realidade. Interessante talvez saber se a maioria é 0, se sim, podemos preencher com zeros)\n",
        "\n",
        "# todo\n",
        "\n",
        "cf_size_original = df['Alcohol consumption'].count()\n",
        "print(f'Tamanho original da coluna Alcohol consumption: {cf_size_original}')\n",
        "print('--------')\n",
        "\n",
        "zeros_alcool = (df['Alcohol consumption'] == 0).sum()\n",
        "\n",
        "# Usando a média ponderada como explicado abaixo\n",
        "media_ponderada = (df['Alcohol consumption'] * df['Alcohol consumption']).sum() / df['Alcohol consumption'].sum()\n",
        "\n",
        "print(f\"Quantidade de zeros na coluna Alcohol consumption: {zeros_alcool}\")\n",
        "print('--------')\n",
        "\n",
        "print(f\"Média ponderada da coluna Alcohol consumption: {media_ponderada.round(2)}\")\n",
        "print('--------')\n",
        "\n",
        "df['Alcohol consumption'] = df['Alcohol consumption'].fillna(media_ponderada)\n",
        "\n",
        "# Verificar se os valores nulos foram preenchidos\n",
        "print(f\"Total de registros com os nulos preenchidos: {df['Alcohol consumption'].count()} \")\n",
        "print('--------')\n",
        "\n",
        "\n",
        "# todo: somar a quantidade de zeros nessa coluna para avaliar\n"
      ],
      "metadata": {
        "colab": {
          "base_uri": "https://localhost:8080/"
        },
        "outputId": "498cec8e-349c-44f0-819d-1c7c7fcddcc5",
        "id": "dPgmmdGnu-cM"
      },
      "execution_count": 131,
      "outputs": [
        {
          "output_type": "stream",
          "name": "stdout",
          "text": [
            "Tamanho original da coluna Alcohol consumption: 438\n",
            "--------\n",
            "Quantidade de zeros na coluna Alcohol consumption: 246\n",
            "--------\n",
            "Média ponderada da coluna Alcohol consumption: 3.41\n",
            "--------\n",
            "Total de registros com os nulos preenchidos: 452 \n",
            "--------\n"
          ]
        }
      ]
    },
    {
      "cell_type": "markdown",
      "source": [
        "**Também optamos pela média ponderada**, já que metade dos registros estavam com zero consumo de álcool."
      ],
      "metadata": {
        "id": "Ee-_pYFLhyTx"
      }
    },
    {
      "cell_type": "markdown",
      "source": [
        "### **Coluna Exercise frequency**\n",
        "É possível fazer uma média entre todos e preencher"
      ],
      "metadata": {
        "id": "R7nA5WUgizS3"
      }
    },
    {
      "cell_type": "code",
      "source": [
        "# BLOCO Exercise frequency: (é possível fazer uma média entre todos e preencher)\n",
        "\n",
        "ex_size_original = df['Exercise frequency'].count()\n",
        "print(f'Tamanho original da coluna Exercise frequency: {ex_size_original}')\n",
        "print('--------')\n",
        "\n",
        "#Calculando a média de vezes que as pessoas acordam durante a noite\n",
        "exercise_frequency_total = df['Exercise frequency'].sum()\n",
        "media_ex = exercise_frequency_total / df['Exercise frequency'].size\n",
        "media_ex = math.ceil(media_ex)\n",
        "\n",
        "print(f'Média de vezes que as pessoas se exercitaram na semana: {media_ex}')\n",
        "print('--------')\n",
        "\n",
        "# Preencher os valores nulos com a média\n",
        "df['Exercise frequency'] = df['Exercise frequency'].fillna(media_ex)\n",
        "\n",
        "# Verificar se os valores nulos foram preenchidos\n",
        "print(f\"Total de registros com os nulos preenchidos: {df['Exercise frequency'].count()} \")\n",
        "\n",
        "print('--------')\n",
        "\n"
      ],
      "metadata": {
        "colab": {
          "base_uri": "https://localhost:8080/"
        },
        "outputId": "7ec8a3a1-4d9a-4038-de21-cb5a4166c25f",
        "id": "29g6KjF0u-cM"
      },
      "execution_count": 132,
      "outputs": [
        {
          "output_type": "stream",
          "name": "stdout",
          "text": [
            "Tamanho original da coluna Exercise frequency: 446\n",
            "--------\n",
            "Média de vezes que as pessoas se exercitaram na semana: 2\n",
            "--------\n",
            "Total de registros com os nulos preenchidos: 452 \n",
            "--------\n"
          ]
        }
      ]
    },
    {
      "cell_type": "markdown",
      "source": [
        "### **Vamos verificar se os nulos foram preenchidos!**"
      ],
      "metadata": {
        "id": "LLm-kewPbgi9"
      }
    },
    {
      "cell_type": "code",
      "source": [
        "df.info()"
      ],
      "metadata": {
        "colab": {
          "base_uri": "https://localhost:8080/"
        },
        "id": "V5Zaa22fbjLZ",
        "outputId": "3480356b-a969-438b-899f-ce7067e18493"
      },
      "execution_count": 133,
      "outputs": [
        {
          "output_type": "stream",
          "name": "stdout",
          "text": [
            "<class 'pandas.core.frame.DataFrame'>\n",
            "RangeIndex: 452 entries, 0 to 451\n",
            "Data columns (total 15 columns):\n",
            " #   Column                  Non-Null Count  Dtype  \n",
            "---  ------                  --------------  -----  \n",
            " 0   ID                      452 non-null    int64  \n",
            " 1   Age                     452 non-null    int64  \n",
            " 2   Gender                  452 non-null    object \n",
            " 3   Bedtime                 452 non-null    object \n",
            " 4   Wakeup time             452 non-null    object \n",
            " 5   Sleep duration          452 non-null    float64\n",
            " 6   Sleep efficiency        452 non-null    float64\n",
            " 7   REM sleep percentage    452 non-null    int64  \n",
            " 8   Deep sleep percentage   452 non-null    int64  \n",
            " 9   Light sleep percentage  452 non-null    int64  \n",
            " 10  Awakenings              452 non-null    float64\n",
            " 11  Caffeine consumption    452 non-null    float64\n",
            " 12  Alcohol consumption     452 non-null    float64\n",
            " 13  Smoking status          452 non-null    object \n",
            " 14  Exercise frequency      452 non-null    float64\n",
            "dtypes: float64(6), int64(5), object(4)\n",
            "memory usage: 53.1+ KB\n"
          ]
        }
      ]
    },
    {
      "cell_type": "markdown",
      "source": [
        "Para o tratamento dos valores nulos, adotamos técnicas de preenchimento baseadas principalmente nas médias das respectivas colunas. <br><br>Essa escolha foi fundamentada na observação de que o dataset apresenta um equilíbrio em algumas variáveis, como a divisão de gênero e os registros de tempo de sono e eficiência. Assim, o uso das médias se mostrou uma abordagem adequada e eficaz para preencher os dados ausentes, mantendo a integridade e a representatividade do conjunto de dados."
      ],
      "metadata": {
        "id": "eOzSfILxbmrh"
      }
    },
    {
      "cell_type": "markdown",
      "source": [
        "## **Resumo estatístico do Dataframe**\n",
        "Com a limpeza dos dados feita, vamos fazer uma análise geral do dataframe, focando em um resumo estatístico. O que pensamos em trazer:\n",
        "Quantidade por gênero <br>\n",
        "\n",
        "*  Quantidade de registros por gênero\n",
        "* Distribuição do tempo de sono\n",
        "* Média de tempo de sono\n",
        "*  Média de sono REM\n",
        "* Eficiência do sono x Atividade Física\n",
        "* Consumo de cafeína x Eficiencia do sono <br>\n",
        "* Eficiencia do sono x Tempo de sono"
      ],
      "metadata": {
        "id": "TP4BJ5ydu-cN"
      }
    },
    {
      "cell_type": "markdown",
      "source": [
        "### Vamos começar com um resumo geral do Dataframe"
      ],
      "metadata": {
        "id": "1R9vXo4patY_"
      }
    },
    {
      "cell_type": "code",
      "source": [
        "# Calcular as quantidades\n",
        "num_registros = df.shape[0]            # Total de registros\n",
        "num_colunas = df.shape[1]              # Número de colunas\n",
        "num_nulos = df.isnull().sum().sum()    # Total de valores nulos\n",
        "\n",
        "# Gráfico 1 e 3 Juntos: Total de Registros e Valores Nulos\n",
        "plt.figure(figsize=(8, 5))\n",
        "plt.bar(['Total de Registros', 'Valores Nulos'], [num_registros, num_nulos], color=['blue', 'red'])\n",
        "plt.title('Total de Registros e Valores Nulos')\n",
        "plt.ylabel('Quantidade')\n",
        "plt.ylim(0, max(num_registros, num_nulos) + 5)  # Ajustar o limite do eixo y\n",
        "plt.grid(axis='y')\n",
        "\n",
        "# Mostrar o valor acima das barras\n",
        "for i, v in enumerate([num_registros, num_nulos]):\n",
        "    plt.text(i, v + 0.2, str(v), ha='center')\n",
        "\n",
        "# Exibir o gráfico\n",
        "plt.show()\n",
        "\n",
        "# Gráfico 2: Número de Colunas\n",
        "from IPython.display import display, HTML # importando\n",
        "\n",
        "num_colunas = df.shape[1]  # Número de colunas\n",
        "\n",
        "# Exibir o número de colunas com formatação HTML\n",
        "display(HTML(f\"<h2 style='color: orange;'>Número de Colunas: <strong>{num_colunas}</strong></h2>\"))\n"
      ],
      "metadata": {
        "colab": {
          "base_uri": "https://localhost:8080/",
          "height": 515
        },
        "id": "eq_swZAyalrE",
        "outputId": "fe2f359e-e2f0-4080-c1d3-a3bc27d5eab4"
      },
      "execution_count": 134,
      "outputs": [
        {
          "output_type": "display_data",
          "data": {
            "text/plain": [
              "<Figure size 800x500 with 1 Axes>"
            ],
            "image/png": "[encoded data removed]"
          },
          "metadata": {}
        },
        {
          "output_type": "display_data",
          "data": {
            "text/plain": [
              "<IPython.core.display.HTML object>"
            ],
            "text/html": [
              "<h2 style='color: orange;'>Número de Colunas: <strong>15</strong></h2>"
            ]
          },
          "metadata": {}
        }
      ]
    },
    {
      "cell_type": "markdown",
      "source": [
        "### Quantidade de registros por Gênero (Male e Female)"
      ],
      "metadata": {
        "id": "QNNFPgzZm4gQ"
      }
    },
    {
      "cell_type": "code",
      "source": [
        "#Quantidade por gênero\n",
        "\n",
        "# Contagem de homens e mulheres\n",
        "contagem_genero = df['Gender'].value_counts()\n",
        "\n",
        "# Gráfico de barras com contagem dentro das barras\n",
        "ax = contagem_genero.plot(kind='bar', color=['skyblue', 'lightcoral'], figsize=(8, 5))\n",
        "plt.title('Distribuição de Gênero')\n",
        "plt.xlabel('Gênero')\n",
        "plt.ylabel('Quantidade')\n",
        "\n",
        "# Adiciona os rótulos de contagem dentro de cada barra\n",
        "for i, count in enumerate(contagem_genero):\n",
        "    ax.text(i, count + 1, f'{count}', ha='center', va='bottom', fontsize=10)\n",
        "\n",
        "plt.xticks(rotation=0)  # Mantém os rótulos do eixo x na horizontal\n",
        "plt.show()\n",
        "\n",
        "\n"
      ],
      "metadata": {
        "id": "8eCNdyzkJ8l7",
        "outputId": "4cb4382d-5778-4044-c0af-eb15a7ca1507",
        "colab": {
          "base_uri": "https://localhost:8080/",
          "height": 488
        }
      },
      "execution_count": 135,
      "outputs": [
        {
          "output_type": "display_data",
          "data": {
            "text/plain": [
              "<Figure size 800x500 with 1 Axes>"
            ],
            "image/png": "[encoded data removed]"
          },
          "metadata": {}
        }
      ]
    },
    {
      "cell_type": "markdown",
      "source": [
        "Possível ver que existe um equilíbrio, sendo praticamente metade dos regsitros de cada gênero"
      ],
      "metadata": {
        "id": "mlWeJfRMm-Tg"
      }
    },
    {
      "cell_type": "markdown",
      "source": [
        "### Distribuição por tempo de sono"
      ],
      "metadata": {
        "id": "9EEmUCZBneCS"
      }
    },
    {
      "cell_type": "code",
      "source": [
        "df.describe()\n",
        "\n",
        "unique_counts = df.nunique()\n",
        "\n",
        "# Exemplo para uma coluna categórica como 'Gender'\n",
        "gender_distribution = df['Gender'].value_counts()\n",
        "\n",
        "df['Sleep duration'].hist(bins=10, figsize=(8,6), color='skyblue')\n",
        "plt.title('Distribuição da Duração do Sono')\n",
        "plt.xlabel('Horas de Sono')\n",
        "plt.ylabel('Quantidade de registros')\n",
        "plt.show()\n",
        "\n",
        "\n"
      ],
      "metadata": {
        "colab": {
          "base_uri": "https://localhost:8080/",
          "height": 564
        },
        "id": "wLcXPEp_niBs",
        "outputId": "377e1ead-6c40-4655-9c60-18f16ef43217"
      },
      "execution_count": 136,
      "outputs": [
        {
          "output_type": "display_data",
          "data": {
            "text/plain": [
              "<Figure size 800x600 with 1 Axes>"
            ],
            "image/png": "[encoded data removed]"
          },
          "metadata": {}
        }
      ]
    },
    {
      "cell_type": "markdown",
      "source": [
        "A partir deste gráfico conseguimos ver que a maioria das pessoas analisadas dormem entre 7h e 8h30 por noite"
      ],
      "metadata": {
        "id": "QY1coFX4nlxu"
      }
    },
    {
      "cell_type": "markdown",
      "source": [
        "### Média de tempo de sono entre todos os registros"
      ],
      "metadata": {
        "id": "ZESS2pZwn1rZ"
      }
    },
    {
      "cell_type": "code",
      "source": [
        "# Média de tempo de sono\n",
        "\n",
        "# Para definir o range, vamos ver qual foi o maior registro feito!\n",
        "maximo_tempo_sono = df['Sleep duration'].max()\n",
        "\n",
        "# Média do tempo de sono\n",
        "media_tempo_sono = df['Sleep duration'].mean()\n",
        "\n",
        "\n",
        "# Gráfico de medido usando Plotly\n",
        "fig = go.Figure(go.Indicator(\n",
        "    mode=\"gauge+number\",\n",
        "    value=media_tempo_sono,\n",
        "    title={'text': \"Média do Tempo de Sono (Horas)\"},\n",
        "    gauge={'axis': {'range': [0, maximo_tempo_sono]},  # Ajuste o range conforme necessário\n",
        "           'bar': {'color': \"skyblue\"}}\n",
        "))\n",
        "\n",
        "fig.show()"
      ],
      "metadata": {
        "id": "GAXyx5A3L4mY",
        "outputId": "2cb4c414-9ba3-4f50-eb47-695f514e0ca2",
        "colab": {
          "base_uri": "https://localhost:8080/",
          "height": 542
        }
      },
      "execution_count": 137,
      "outputs": [
        {
          "output_type": "display_data",
          "data": {
            "text/html": [
              "<html>\n",
              "<head><meta charset=\"utf-8\" /></head>\n",
              "<body>\n",
              "    <div>            <script src=\"https://cdnjs.cloudflare.com/ajax/libs/mathjax/2.7.5/MathJax.js?config=TeX-AMS-MML_SVG\"></script><script type=\"text/javascript\">if (window.MathJax && window.MathJax.Hub && window.MathJax.Hub.Config) {window.MathJax.Hub.Config({SVG: {font: \"STIX-Web\"}});}</script>                <script type=\"text/javascript\">window.PlotlyConfig = {MathJaxConfig: 'local'};</script>\n",
              "        <script charset=\"utf-8\" src=\"https://cdn.plot.ly/plotly-2.35.2.min.js\"></script>                <div id=\"297f068e-6e63-4028-83a0-a4944520aec3\" class=\"plotly-graph-div\" style=\"height:525px; width:100%;\"></div>            <script type=\"text/javascript\">                                    window.PLOTLYENV=window.PLOTLYENV || {};                                    if (document.getElementById(\"297f068e-6e63-4028-83a0-a4944520aec3\")) {                    Plotly.newPlot(                        \"297f068e-6e63-4028-83a0-a4944520aec3\",                        [{\"gauge\":{\"axis\":{\"range\":[0,10.0]},\"bar\":{\"color\":\"skyblue\"}},\"mode\":\"gauge+number\",\"title\":{\"text\":\"M\\u00e9dia do Tempo de Sono (Horas)\"},\"value\":7.46570796460177,\"type\":\"indicator\"}],                        {\"template\":{\"data\":{\"histogram2dcontour\":[{\"type\":\"histogram2dcontour\",\"colorbar\":{\"outlinewidth\":0,\"ticks\":\"\"},\"colorscale\":[[0.0,\"#0d0887\"],[0.1111111111111111,\"#46039f\"],[0.2222222222222222,\"#7201a8\"],[0.3333333333333333,\"#9c179e\"],[0.4444444444444444,\"#bd3786\"],[0.5555555555555556,\"#d8576b\"],[0.6666666666666666,\"#ed7953\"],[0.7777777777777778,\"#fb9f3a\"],[0.8888888888888888,\"#fdca26\"],[1.0,\"#f0f921\"]]}],\"choropleth\":[{\"type\":\"choropleth\",\"colorbar\":{\"outlinewidth\":0,\"ticks\":\"\"}}],\"histogram2d\":[{\"type\":\"histogram2d\",\"colorbar\":{\"outlinewidth\":0,\"ticks\":\"\"},\"colorscale\":[[0.0,\"#0d0887\"],[0.1111111111111111,\"#46039f\"],[0.2222222222222222,\"#7201a8\"],[0.3333333333333333,\"#9c179e\"],[0.4444444444444444,\"#bd3786\"],[0.5555555555555556,\"#d8576b\"],[0.6666666666666666,\"#ed7953\"],[0.7777777777777778,\"#fb9f3a\"],[0.8888888888888888,\"#fdca26\"],[1.0,\"#f0f921\"]]}],\"heatmap\":[{\"type\":\"heatmap\",\"colorbar\":{\"outlinewidth\":0,\"ticks\":\"\"},\"colorscale\":[[0.0,\"#0d0887\"],[0.1111111111111111,\"#46039f\"],[0.2222222222222222,\"#7201a8\"],[0.3333333333333333,\"#9c179e\"],[0.4444444444444444,\"#bd3786\"],[0.5555555555555556,\"#d8576b\"],[0.6666666666666666,\"#ed7953\"],[0.7777777777777778,\"#fb9f3a\"],[0.8888888888888888,\"#fdca26\"],[1.0,\"#f0f921\"]]}],\"heatmapgl\":[{\"type\":\"heatmapgl\",\"colorbar\":{\"outlinewidth\":0,\"ticks\":\"\"},\"colorscale\":[[0.0,\"#0d0887\"],[0.1111111111111111,\"#46039f\"],[0.2222222222222222,\"#7201a8\"],[0.3333333333333333,\"#9c179e\"],[0.4444444444444444,\"#bd3786\"],[0.5555555555555556,\"#d8576b\"],[0.6666666666666666,\"#ed7953\"],[0.7777777777777778,\"#fb9f3a\"],[0.8888888888888888,\"#fdca26\"],[1.0,\"#f0f921\"]]}],\"contourcarpet\":[{\"type\":\"contourcarpet\",\"colorbar\":{\"outlinewidth\":0,\"ticks\":\"\"}}],\"contour\":[{\"type\":\"contour\",\"colorbar\":{\"outlinewidth\":0,\"ticks\":\"\"},\"colorscale\":[[0.0,\"#0d0887\"],[0.1111111111111111,\"#46039f\"],[0.2222222222222222,\"#7201a8\"],[0.3333333333333333,\"#9c179e\"],[0.4444444444444444,\"#bd3786\"],[0.5555555555555556,\"#d8576b\"],[0.6666666666666666,\"#ed7953\"],[0.7777777777777778,\"#fb9f3a\"],[0.8888888888888888,\"#fdca26\"],[1.0,\"#f0f921\"]]}],\"surface\":[{\"type\":\"surface\",\"colorbar\":{\"outlinewidth\":0,\"ticks\":\"\"},\"colorscale\":[[0.0,\"#0d0887\"],[0.1111111111111111,\"#46039f\"],[0.2222222222222222,\"#7201a8\"],[0.3333333333333333,\"#9c179e\"],[0.4444444444444444,\"#bd3786\"],[0.5555555555555556,\"#d8576b\"],[0.6666666666666666,\"#ed7953\"],[0.7777777777777778,\"#fb9f3a\"],[0.8888888888888888,\"#fdca26\"],[1.0,\"#f0f921\"]]}],\"mesh3d\":[{\"type\":\"mesh3d\",\"colorbar\":{\"outlinewidth\":0,\"ticks\":\"\"}}],\"scatter\":[{\"fillpattern\":{\"fillmode\":\"overlay\",\"size\":10,\"solidity\":0.2},\"type\":\"scatter\"}],\"parcoords\":[{\"type\":\"parcoords\",\"line\":{\"colorbar\":{\"outlinewidth\":0,\"ticks\":\"\"}}}],\"scatterpolargl\":[{\"type\":\"scatterpolargl\",\"marker\":{\"colorbar\":{\"outlinewidth\":0,\"ticks\":\"\"}}}],\"bar\":[{\"error_x\":{\"color\":\"#2a3f5f\"},\"error_y\":{\"color\":\"#2a3f5f\"},\"marker\":{\"line\":{\"color\":\"#E5ECF6\",\"width\":0.5},\"pattern\":{\"fillmode\":\"overlay\",\"size\":10,\"solidity\":0.2}},\"type\":\"bar\"}],\"scattergeo\":[{\"type\":\"scattergeo\",\"marker\":{\"colorbar\":{\"outlinewidth\":0,\"ticks\":\"\"}}}],\"scatterpolar\":[{\"type\":\"scatterpolar\",\"marker\":{\"colorbar\":{\"outlinewidth\":0,\"ticks\":\"\"}}}],\"histogram\":[{\"marker\":{\"pattern\":{\"fillmode\":\"overlay\",\"size\":10,\"solidity\":0.2}},\"type\":\"histogram\"}],\"scattergl\":[{\"type\":\"scattergl\",\"marker\":{\"colorbar\":{\"outlinewidth\":0,\"ticks\":\"\"}}}],\"scatter3d\":[{\"type\":\"scatter3d\",\"line\":{\"colorbar\":{\"outlinewidth\":0,\"ticks\":\"\"}},\"marker\":{\"colorbar\":{\"outlinewidth\":0,\"ticks\":\"\"}}}],\"scattermapbox\":[{\"type\":\"scattermapbox\",\"marker\":{\"colorbar\":{\"outlinewidth\":0,\"ticks\":\"\"}}}],\"scatterternary\":[{\"type\":\"scatterternary\",\"marker\":{\"colorbar\":{\"outlinewidth\":0,\"ticks\":\"\"}}}],\"scattercarpet\":[{\"type\":\"scattercarpet\",\"marker\":{\"colorbar\":{\"outlinewidth\":0,\"ticks\":\"\"}}}],\"carpet\":[{\"aaxis\":{\"endlinecolor\":\"#2a3f5f\",\"gridcolor\":\"white\",\"linecolor\":\"white\",\"minorgridcolor\":\"white\",\"startlinecolor\":\"#2a3f5f\"},\"baxis\":{\"endlinecolor\":\"#2a3f5f\",\"gridcolor\":\"white\",\"linecolor\":\"white\",\"minorgridcolor\":\"white\",\"startlinecolor\":\"#2a3f5f\"},\"type\":\"carpet\"}],\"table\":[{\"cells\":{\"fill\":{\"color\":\"#EBF0F8\"},\"line\":{\"color\":\"white\"}},\"header\":{\"fill\":{\"color\":\"#C8D4E3\"},\"line\":{\"color\":\"white\"}},\"type\":\"table\"}],\"barpolar\":[{\"marker\":{\"line\":{\"color\":\"#E5ECF6\",\"width\":0.5},\"pattern\":{\"fillmode\":\"overlay\",\"size\":10,\"solidity\":0.2}},\"type\":\"barpolar\"}],\"pie\":[{\"automargin\":true,\"type\":\"pie\"}]},\"layout\":{\"autotypenumbers\":\"strict\",\"colorway\":[\"#636efa\",\"#EF553B\",\"#00cc96\",\"#ab63fa\",\"#FFA15A\",\"#19d3f3\",\"#FF6692\",\"#B6E880\",\"#FF97FF\",\"#FECB52\"],\"font\":{\"color\":\"#2a3f5f\"},\"hovermode\":\"closest\",\"hoverlabel\":{\"align\":\"left\"},\"paper_bgcolor\":\"white\",\"plot_bgcolor\":\"#E5ECF6\",\"polar\":{\"bgcolor\":\"#E5ECF6\",\"angularaxis\":{\"gridcolor\":\"white\",\"linecolor\":\"white\",\"ticks\":\"\"},\"radialaxis\":{\"gridcolor\":\"white\",\"linecolor\":\"white\",\"ticks\":\"\"}},\"ternary\":{\"bgcolor\":\"#E5ECF6\",\"aaxis\":{\"gridcolor\":\"white\",\"linecolor\":\"white\",\"ticks\":\"\"},\"baxis\":{\"gridcolor\":\"white\",\"linecolor\":\"white\",\"ticks\":\"\"},\"caxis\":{\"gridcolor\":\"white\",\"linecolor\":\"white\",\"ticks\":\"\"}},\"coloraxis\":{\"colorbar\":{\"outlinewidth\":0,\"ticks\":\"\"}},\"colorscale\":{\"sequential\":[[0.0,\"#0d0887\"],[0.1111111111111111,\"#46039f\"],[0.2222222222222222,\"#7201a8\"],[0.3333333333333333,\"#9c179e\"],[0.4444444444444444,\"#bd3786\"],[0.5555555555555556,\"#d8576b\"],[0.6666666666666666,\"#ed7953\"],[0.7777777777777778,\"#fb9f3a\"],[0.8888888888888888,\"#fdca26\"],[1.0,\"#f0f921\"]],\"sequentialminus\":[[0.0,\"#0d0887\"],[0.1111111111111111,\"#46039f\"],[0.2222222222222222,\"#7201a8\"],[0.3333333333333333,\"#9c179e\"],[0.4444444444444444,\"#bd3786\"],[0.5555555555555556,\"#d8576b\"],[0.6666666666666666,\"#ed7953\"],[0.7777777777777778,\"#fb9f3a\"],[0.8888888888888888,\"#fdca26\"],[1.0,\"#f0f921\"]],\"diverging\":[[0,\"#8e0152\"],[0.1,\"#c51b7d\"],[0.2,\"#de77ae\"],[0.3,\"#f1b6da\"],[0.4,\"#fde0ef\"],[0.5,\"#f7f7f7\"],[0.6,\"#e6f5d0\"],[0.7,\"#b8e186\"],[0.8,\"#7fbc41\"],[0.9,\"#4d9221\"],[1,\"#276419\"]]},\"xaxis\":{\"gridcolor\":\"white\",\"linecolor\":\"white\",\"ticks\":\"\",\"title\":{\"standoff\":15},\"zerolinecolor\":\"white\",\"automargin\":true,\"zerolinewidth\":2},\"yaxis\":{\"gridcolor\":\"white\",\"linecolor\":\"white\",\"ticks\":\"\",\"title\":{\"standoff\":15},\"zerolinecolor\":\"white\",\"automargin\":true,\"zerolinewidth\":2},\"scene\":{\"xaxis\":{\"backgroundcolor\":\"#E5ECF6\",\"gridcolor\":\"white\",\"linecolor\":\"white\",\"showbackground\":true,\"ticks\":\"\",\"zerolinecolor\":\"white\",\"gridwidth\":2},\"yaxis\":{\"backgroundcolor\":\"#E5ECF6\",\"gridcolor\":\"white\",\"linecolor\":\"white\",\"showbackground\":true,\"ticks\":\"\",\"zerolinecolor\":\"white\",\"gridwidth\":2},\"zaxis\":{\"backgroundcolor\":\"#E5ECF6\",\"gridcolor\":\"white\",\"linecolor\":\"white\",\"showbackground\":true,\"ticks\":\"\",\"zerolinecolor\":\"white\",\"gridwidth\":2}},\"shapedefaults\":{\"line\":{\"color\":\"#2a3f5f\"}},\"annotationdefaults\":{\"arrowcolor\":\"#2a3f5f\",\"arrowhead\":0,\"arrowwidth\":1},\"geo\":{\"bgcolor\":\"white\",\"landcolor\":\"#E5ECF6\",\"subunitcolor\":\"white\",\"showland\":true,\"showlakes\":true,\"lakecolor\":\"white\"},\"title\":{\"x\":0.05},\"mapbox\":{\"style\":\"light\"}}}},                        {\"responsive\": true}                    ).then(function(){\n",
              "                            \n",
              "var gd = document.getElementById('297f068e-6e63-4028-83a0-a4944520aec3');\n",
              "var x = new MutationObserver(function (mutations, observer) {{\n",
              "        var display = window.getComputedStyle(gd).display;\n",
              "        if (!display || display === 'none') {{\n",
              "            console.log([gd, 'removed!']);\n",
              "            Plotly.purge(gd);\n",
              "            observer.disconnect();\n",
              "        }}\n",
              "}});\n",
              "\n",
              "// Listen for the removal of the full notebook cells\n",
              "var notebookContainer = gd.closest('#notebook-container');\n",
              "if (notebookContainer) {{\n",
              "    x.observe(notebookContainer, {childList: true});\n",
              "}}\n",
              "\n",
              "// Listen for the clearing of the current output cell\n",
              "var outputEl = gd.closest('.output');\n",
              "if (outputEl) {{\n",
              "    x.observe(outputEl, {childList: true});\n",
              "}}\n",
              "\n",
              "                        })                };                            </script>        </div>\n",
              "</body>\n",
              "</html>"
            ]
          },
          "metadata": {}
        }
      ]
    },
    {
      "cell_type": "markdown",
      "source": [
        "### **Relações entre as variáveis**\n",
        "Vamos analisar como algumas variáveis podem influenciar a eficiência do sono.\n",
        "* **Eficiência de Sono e Atividade física**\n",
        "* **Eficiencia do sono e Consumo de cafeína (ml nas últimas 24h)**\n",
        "* **Eficiência do sono e tempo de sono**\n",
        "\n",
        "Inicialmente fizemos a plotagem com Scatterplot para mostrar a dispersão, mas achamos que os dados ficaram mais complexos de serem entedidos. <br> Por isso, optamos para **mudar para o boxplot e colocá-los em uma só plotagem, para facilitar o entedimento de maneira geral.**"
      ],
      "metadata": {
        "id": "xNVlFL0bv0lM"
      }
    },
    {
      "cell_type": "code",
      "source": [
        "# configurações gerais\n",
        "plt.figure(figsize=(15, 5))\n",
        "\n",
        "# Boxplot para Eficiência do Sono e Frequência de Exercício\n",
        "plt.subplot(1, 3, 1)\n",
        "sns.boxplot(x='Exercise frequency', y='Sleep efficiency', data=df, palette=\"Blues\")\n",
        "plt.title(\"Eficiência do Sono vs Frequência de Exercício\")\n",
        "plt.xlabel(\"Frequência de Exercício\")\n",
        "plt.ylabel(\"Eficiência do Sono (%)\")\n",
        "\n",
        "# Boxplot para Eficiência do Sono e Consumo de Café\n",
        "plt.subplot(1, 3, 2)\n",
        "sns.boxplot(x=pd.cut(df['Caffeine consumption'], bins=[0, 25, 50, 75, 100, 200]),\n",
        "            y='Sleep efficiency', data=df, palette=\"Greens\")\n",
        "plt.title(\"Eficiência do Sono vs Consumo de Café\")\n",
        "plt.xlabel(\"Consumo de Café (categorias)\")\n",
        "plt.ylabel(\"Eficiência do Sono (%)\")\n",
        "\n",
        "# Boxplot para Eficiência do Sono e Tempo de Sono\n",
        "plt.subplot(1, 3, 3)\n",
        "sns.boxplot(x=pd.cut(df['Sleep duration'], bins=[5, 6, 7, 8, 9, 10]),\n",
        "            y='Sleep efficiency', data=df, palette=\"Oranges\")\n",
        "plt.title(\"Eficiência do Sono vs Tempo de Sono\")\n",
        "plt.xlabel(\"Tempo de Sono (categorias)\")\n",
        "plt.ylabel(\"Eficiência do Sono (%)\")\n",
        "\n",
        "plt.tight_layout()\n",
        "plt.show()"
      ],
      "metadata": {
        "colab": {
          "base_uri": "https://localhost:8080/",
          "height": 867
        },
        "id": "Ne6tDa0CwzBe",
        "outputId": "13b34aaf-57d3-4f75-b0eb-58823ce8dc71"
      },
      "execution_count": 138,
      "outputs": [
        {
          "output_type": "stream",
          "name": "stderr",
          "text": [
            "<ipython-input-138-006d74392572>:6: FutureWarning:\n",
            "\n",
            "\n",
            "\n",
            "Passing `palette` without assigning `hue` is deprecated and will be removed in v0.14.0. Assign the `x` variable to `hue` and set `legend=False` for the same effect.\n",
            "\n",
            "\n",
            "<ipython-input-138-006d74392572>:13: FutureWarning:\n",
            "\n",
            "\n",
            "\n",
            "Passing `palette` without assigning `hue` is deprecated and will be removed in v0.14.0. Assign the `x` variable to `hue` and set `legend=False` for the same effect.\n",
            "\n",
            "\n",
            "<ipython-input-138-006d74392572>:21: FutureWarning:\n",
            "\n",
            "\n",
            "\n",
            "Passing `palette` without assigning `hue` is deprecated and will be removed in v0.14.0. Assign the `x` variable to `hue` and set `legend=False` for the same effect.\n",
            "\n",
            "\n"
          ]
        },
        {
          "output_type": "display_data",
          "data": {
            "text/plain": [
              "<Figure size 1500x500 with 3 Axes>"
            ],
            "image/png": "[encoded data removed]"
          },
          "metadata": {}
        }
      ]
    },
    {
      "cell_type": "markdown",
      "source": [
        "### **Eficiência do Sono vs. Frequência de Exercício**\n",
        "\n",
        "* Quanto mais a pessoa se exercita, em geral, melhor é a qualidade do sono. A eficiência do sono tende a **aumentar levemente** com a frequência de exercício.<br>\n",
        "* As pessoas que se exercitam 4 a 5 vezes por semana têm uma eficiência do sono maior, embora também haja uma variabilidade considerável.\n",
        "<br>\n",
        "* Parece haver uma tendência de que, quanto mais frequente o exercício, maior a eficiência do sono, mas com alguma dispersão nos dados."
      ],
      "metadata": {
        "id": "p2spmwemw09T"
      }
    },
    {
      "cell_type": "markdown",
      "source": [
        "###**Eficiência do Sono e Consumo de cafeína**\n",
        "\n",
        "* Beber cafeína parece ter um efeito misto: as pessoas que bebem MUITO POUCO café têm uma eficiência de sono melhor.\n",
        "* Quem bebe café em quantidades mais moderadas (entre 25 e 100 mg) tem uma qualidade de sono um pouco menor.\n",
        "* Algumas pessoas que bebem muito café (100-200 mg) ainda conseguem ter um sono eficiente"
      ],
      "metadata": {
        "id": "xguKbjFKw63x"
      }
    },
    {
      "cell_type": "markdown",
      "source": [
        "### **Eficiência do Sono e Tempo de Sono**:\n",
        "\n",
        "* Dormir pouco (entre 5 e 6 horas) tende a ser mais eficiente nessa amostra.\n",
        "* Quem dorme mais horas (entre 8 e 10) parece ter uma eficiência de sono um pouco menor. Isso indica que, para algumas pessoas, dormir muito tempo pode não ser tão \"eficiente\"."
      ],
      "metadata": {
        "id": "cjXhVeOqxU-d"
      }
    },
    {
      "cell_type": "markdown",
      "source": [
        "### **Resumindo...**\n",
        "* Exercitar-se com frequência ajuda a melhorar o sono\n",
        "* Beber café pode atrapalhar a qualidade do sono, mas isso varia de pessoa para pessoa\n",
        "* Dormir demais pode reduzir a eficiência do sono"
      ],
      "metadata": {
        "id": "pgyj3xswxk5f"
      }
    },
    {
      "cell_type": "markdown",
      "source": [
        "# Fim"
      ],
      "metadata": {
        "id": "dkKPgwO5xtWA"
      }
    }
  ]
}