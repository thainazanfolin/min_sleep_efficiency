{
  "nbformat": 4,
  "nbformat_minor": 0,
  "metadata": {
    "colab": {
      "provenance": [],
      "authorship_tag": "ABX9TyP6+I3FK3lsmrrHkJRyl4Uw",
      "include_colab_link": true
    },
    "kernelspec": {
      "name": "python3",
      "display_name": "Python 3"
    },
    "language_info": {
      "name": "python"
    }
  },
  "cells": [
    {
      "cell_type": "markdown",
      "metadata": {
        "id": "view-in-github",
        "colab_type": "text"
      },
      "source": [
        "<a href=\"https://colab.research.google.com/github/thainazanfolin/min_sleep_efficiency/blob/main/Projeto_Min_Sleep_Efficiency.ipynb\" target=\"_parent\"><img src=\"https://colab.research.google.com/assets/colab-badge.svg\" alt=\"Open In Colab\"/></a>"
      ]
    },
    {
      "cell_type": "markdown",
      "source": [
        "\n",
        "\n",
        "# Projeto de Análise de dados: como os fatores de Estilo de Vida influenciam a Eficiência do Sono\n",
        "\n",
        "- [Link do dataset no Kaggle](https://www.kaggle.com/datasets/equilibriumm/sleep-efficiency/data)\n",
        "\n",
        "## Objetivo do projeto\n",
        "Realizar uma análise sobre como diferentes hábitos podem ou não afetar a eficiência do sono, considerando tempo de sono e também sua qualidade.\n",
        "\n",
        "## Sobre o Conjunto de Dados\n",
        "O conjunto de dados contém informações sobre um grupo de sujeitos de teste e seus padrões de sono.\n",
        "- **Subject ID**: Identificação exclusiva de cada sujeito, com idade e gênero registrados.\n",
        "- **Bedtime**: Hora em que cada sujeito vai para a cama.\n",
        "- **Wakeup time**: Hora em que cada sujeito acorda.\n",
        "- **Sleep duration**: Total de tempo dormido em horas.\n",
        "- **Sleep efficiency**: Proporção do tempo na cama que foi realmente gasto dormindo.\n",
        "- **REM sleep percentage**: Tempo gasto em sono REM.\n",
        "- **Deep sleep percentage**: Tempo gasto em sono profundo.\n",
        "- **Light sleep percentage**: Tempo gasto em sono leve.\n",
        "- **Awakenings**: Número de vezes que cada sujeito acorda durante a noite.\n",
        "- **Caffeine consumption**: Consumo de cafeína nas 24 horas anteriores à hora de dormir.\n",
        "- **Alcohol consumption**: Consumo de álcool nas 24 horas anteriores à hora de dormir.\n",
        "- **Smoking status**: Estado de fumante de cada sujeito.\n",
        "- **Exercise frequency**: Frequência de exercícios de cada sujeito.\n",
        "\n"
      ],
      "metadata": {
        "id": "qEYA3cOL_gVT"
      }
    },
    {
      "cell_type": "markdown",
      "source": [
        "## Vamos importar a nossa base de dados.\n",
        " Optamos por trazer por URL para facilitar o trabalho de todos os membros da equipe em um só colab. <br> Porém, também pode ser feito subindo a base aqui no Colab, normalmente. <br><br>\n",
        "Vamos começar!"
      ],
      "metadata": {
        "id": "93ab2BR3_k9i"
      }
    },
    {
      "cell_type": "code",
      "source": [
        "#importando as bibliotecas necessárias\n",
        "import pandas as pd\n",
        "import time\n"
      ],
      "metadata": {
        "id": "FvK3mnnjZmj7"
      },
      "execution_count": 3,
      "outputs": []
    },
    {
      "cell_type": "code",
      "execution_count": 4,
      "metadata": {
        "colab": {
          "base_uri": "https://localhost:8080/"
        },
        "id": "VCFLpX2Y9Uws",
        "outputId": "187bd548-9515-4681-e24c-2f4b179b0083"
      },
      "outputs": [
        {
          "output_type": "stream",
          "name": "stdout",
          "text": [
            "     ID  Age  Gender           Bedtime       Wakeup time  Sleep duration  \\\n",
            "0     1   65  Female  06/03/2021 01:00  06/03/2021 07:00             6.0   \n",
            "1     2   69    Male  05/12/2021 02:00  05/12/2021 09:00             7.0   \n",
            "2     3   40  Female  25/05/2021 21:30  25/05/2021 05:30             8.0   \n",
            "3     4   40  Female  03/11/2021 02:30  03/11/2021 08:30             6.0   \n",
            "4     5   57    Male  13/03/2021 01:00  13/03/2021 09:00             8.0   \n",
            "..  ...  ...     ...               ...               ...             ...   \n",
            "95   96   61  Female  10/07/2021 02:00  10/07/2021 09:00             7.0   \n",
            "96   97   41    Male  15/02/2021 21:00  15/02/2021 04:00             7.0   \n",
            "97   98   53    Male  02/11/2021 23:00  02/11/2021 06:30             7.5   \n",
            "98   99   32  Female  12/01/2021 02:00  12/01/2021 11:00             9.0   \n",
            "99  100   65    Male  07/12/2021 01:30  07/12/2021 09:30             8.0   \n",
            "\n",
            "    Sleep efficiency  REM sleep percentage  Deep sleep percentage  \\\n",
            "0               0.88                    18                     70   \n",
            "1               0.66                    19                     28   \n",
            "2               0.89                    20                     70   \n",
            "3               0.51                    23                     25   \n",
            "4               0.76                    27                     55   \n",
            "..               ...                   ...                    ...   \n",
            "95              0.73                    20                     67   \n",
            "96              0.96                    28                     55   \n",
            "97              0.91                    22                     57   \n",
            "98              0.80                    20                     67   \n",
            "99              0.77                    20                     70   \n",
            "\n",
            "    Light sleep percentage  Awakenings  Caffeine consumption  \\\n",
            "0                       12         0.0                   0.0   \n",
            "1                       53         3.0                   0.0   \n",
            "2                       10         1.0                   0.0   \n",
            "3                       52         3.0                  50.0   \n",
            "4                       18         3.0                   0.0   \n",
            "..                     ...         ...                   ...   \n",
            "95                      13         1.0                  25.0   \n",
            "96                      17         0.0                 200.0   \n",
            "97                      21         1.0                  25.0   \n",
            "98                      13         2.0                  25.0   \n",
            "99                      10         4.0                   0.0   \n",
            "\n",
            "    Alcohol consumption Smoking status  Exercise frequency  \n",
            "0                   0.0            Yes                 3.0  \n",
            "1                   3.0            Yes                 3.0  \n",
            "2                   0.0             No                 3.0  \n",
            "3                   5.0            Yes                 1.0  \n",
            "4                   3.0             No                 3.0  \n",
            "..                  ...            ...                 ...  \n",
            "95                  2.0            Yes                 0.0  \n",
            "96                  0.0             No                 3.0  \n",
            "97                  0.0             No                 2.0  \n",
            "98                  0.0             No                 0.0  \n",
            "99                  0.0             No                 3.0  \n",
            "\n",
            "[100 rows x 15 columns]\n"
          ]
        }
      ],
      "source": [
        "#trazendo o database de uma url externa\n",
        "\n",
        "url = 'https://raw.githubusercontent.com/thainazanfolin/min_sleep_efficiency/refs/heads/main/Sleep_Efficiency_table.csv'\n",
        "df = pd.read_csv(url, delimiter=';')\n",
        "\n",
        "# Verifique as primeiras linhas do DataFrame\n",
        "print(df.head(100))\n"
      ]
    },
    {
      "cell_type": "code",
      "source": [
        "# Observando as informações gerais sobre o dataset, incluindo tipos de dados e valores nulos\n",
        "df.info()\n",
        "\n",
        "# Verificar quantos valores nulos existem em cada coluna\n",
        "df.isnull().sum()\n",
        "\n",
        "print('-------')\n",
        "\n",
        "# Verificar se há linhas duplicadas\n",
        "linhas_duplicadas = df.duplicated().sum()\n",
        "print(f\"Número de linhas duplicadas: {linhas_duplicadas}\")\n"
      ],
      "metadata": {
        "id": "w_HaenQsY84w",
        "outputId": "d4783f91-2a5d-4e9c-b7ee-0f51dda94987",
        "colab": {
          "base_uri": "https://localhost:8080/"
        }
      },
      "execution_count": 7,
      "outputs": [
        {
          "output_type": "stream",
          "name": "stdout",
          "text": [
            "<class 'pandas.core.frame.DataFrame'>\n",
            "RangeIndex: 452 entries, 0 to 451\n",
            "Data columns (total 15 columns):\n",
            " #   Column                  Non-Null Count  Dtype  \n",
            "---  ------                  --------------  -----  \n",
            " 0   ID                      452 non-null    int64  \n",
            " 1   Age                     452 non-null    int64  \n",
            " 2   Gender                  452 non-null    object \n",
            " 3   Bedtime                 452 non-null    object \n",
            " 4   Wakeup time             452 non-null    object \n",
            " 5   Sleep duration          452 non-null    float64\n",
            " 6   Sleep efficiency        452 non-null    float64\n",
            " 7   REM sleep percentage    452 non-null    int64  \n",
            " 8   Deep sleep percentage   452 non-null    int64  \n",
            " 9   Light sleep percentage  452 non-null    int64  \n",
            " 10  Awakenings              432 non-null    float64\n",
            " 11  Caffeine consumption    427 non-null    float64\n",
            " 12  Alcohol consumption     438 non-null    float64\n",
            " 13  Smoking status          452 non-null    object \n",
            " 14  Exercise frequency      446 non-null    float64\n",
            "dtypes: float64(6), int64(5), object(4)\n",
            "memory usage: 53.1+ KB\n",
            "-------\n",
            "Número de linhas duplicadas: 0\n"
          ]
        }
      ]
    },
    {
      "cell_type": "markdown",
      "source": [
        "A partir das informações da tabela conseguimos verificar que:\n",
        "\n",
        "* existem **452 registros** totais\n",
        "* nas colunas 'Awakenings', 'Caffeine consumption', 'Alcohol consumption' e 'Exercise frequency' **existem dados faltantes (nulos)**\n",
        "* não existem linhas duplicadas   \n",
        "\n",
        "Vamos trazer mais dados sobre os valores nulos para decidir como vamos fazer a limpeza dos dados."
      ],
      "metadata": {
        "id": "H5NvygM8Z9fp"
      }
    },
    {
      "cell_type": "code",
      "source": [
        "#vamos ver quantos nulos temos em cada coluna\n",
        "\n",
        "null_awakenings = df['Awakenings'].isnull().sum()\n",
        "print(f\"Número de nulos em Awakenings: {null_awakenings}\")\n",
        "\n",
        "null_caffeine = df['Caffeine consumption'].isnull().sum()\n",
        "print(f\"Número de nulos em Caffeine consumption: {null_caffeine}\")\n",
        "\n",
        "null_alcohol = df['Alcohol consumption'].isnull().sum()\n",
        "print(f\"Número de nulos em Alcohol consumption: {null_alcohol}\")\n",
        "\n",
        "null_exercise = df['Exercise frequency'].isnull().sum()\n",
        "print(f\"Número de nulos em Exercise frequency: {null_exercise}\")\n",
        "\n",
        "\n",
        "# Total de nulos no dataframe\n",
        "sum_null = sum([null_awakenings, null_caffeine, null_alcohol, null_exercise])\n",
        "print(f\"Total de nulos no dataframe: {sum_null}\")\n"
      ],
      "metadata": {
        "id": "eF-Vj12_afNv",
        "outputId": "5efcecf1-e30a-44bc-d224-beba75125e6c",
        "colab": {
          "base_uri": "https://localhost:8080/"
        }
      },
      "execution_count": 10,
      "outputs": [
        {
          "output_type": "stream",
          "name": "stdout",
          "text": [
            "Número de nulos em Awakenings: 20\n",
            "Número de nulos em Caffeine consumption: 25\n",
            "Número de nulos em Alcohol consumption: 14\n",
            "Número de nulos em Exercise frequency: 6\n",
            "Total de nulos no dataframe: 65\n"
          ]
        }
      ]
    },
    {
      "cell_type": "markdown",
      "source": [
        "Como vimos, temos o total de 65 valores em branco no dataframe. Nossas opções para limpar esses dados são:\n",
        "\n",
        "1. excluir as linhas com dados faltantes\n",
        "2. preencher os dados faltantes com a média dos outros valores (verificar se faz sentido)\n",
        "3. preencher os dados faltantes com o dado presente em outro caso semelhante (podemos fazer um order by por idade e genero, por exemplo, e trazer o mesmo dado).\n",
        "\n",
        "Considerando que nossa database tem poucos registros, vamos fazer a opção 1 e 2, para não perder registros. Porém, vamos verificar o dado faltante de acordo com a coluna. <br><br>\n",
        "\n",
        "Vamos retomar as informações da database, considerando o que nossas colunas trazem:\n",
        "* Awakenings: Número de vezes que cada sujeito acorda durante a noite\n",
        "<br>**(é possível fazer uma média entre todos e preencher)** <br><br>\n",
        "\n",
        "* Caffeine consumption: Consumo de cafeína nas 24 horas anteriores à hora de dormir.\n",
        "<br>**(é possível fazer uma média entre todos e preencher, porém é importante verificar antes a quantidade de ZEROS presentes, pois a média pode não representar a realidade. Interessante talvez saber se a maioria é 0, se sim, podemos preencher com zeros)** <br><br>\n",
        "\n",
        "* Alcohol consumption: Consumo de álcool nas 24 horas anteriores à hora de dormir. <br>**(é possível fazer uma média entre todos e preencher, porém é importante verificar antes a quantidade de ZEROS presentes, pois a média pode não representar a realidade. Interessante talvez saber se a maioria é 0, se sim, podemos preencher com zeros)**<br><br>\n",
        "\n",
        "* Exercise frequency: Frequência de exercícios de cada sujeito.\n",
        "<br>**(é possível fazer uma média entre todos e preencher)** <br><br>\n",
        "\n",
        "\n"
      ],
      "metadata": {
        "id": "88VVb0hYcJin"
      }
    },
    {
      "cell_type": "code",
      "source": [
        "# todo: fazer aqui o que está acima em blocos separados\n",
        "\n",
        "# BLOCO Awakenings: é possível fazer uma média entre todos e preencher\n"
      ],
      "metadata": {
        "id": "sXa2kHd0hC97"
      },
      "execution_count": null,
      "outputs": []
    },
    {
      "cell_type": "code",
      "source": [
        "# BLOCO Caffeine consumption: é possível fazer uma média entre todos e preencher, porém é importante verificar antes a quantidade de ZEROS presentes, pois a média pode não representar a realidade. Interessante talvez saber se a maioria é 0, se sim, podemos preencher com zeros\n",
        "# todo: somar a quantidade de zeros nessa coluna para avaliar"
      ],
      "metadata": {
        "id": "TRXhlfmojiy8"
      },
      "execution_count": null,
      "outputs": []
    },
    {
      "cell_type": "code",
      "source": [
        "# BLOCO Alcohol consumption: é possível fazer uma média entre todos e preencher, porém é importante verificar antes a quantidade de ZEROS presentes, pois a média pode não representar a realidade. Interessante talvez saber se a maioria é 0, se sim, podemos preencher com zeros)\n",
        "# todo: somar a quantidade de zeros nessa coluna para avaliar"
      ],
      "metadata": {
        "id": "jbjPfQNbjnzA"
      },
      "execution_count": null,
      "outputs": []
    },
    {
      "cell_type": "code",
      "source": [
        "# BLOCO Exercise frequency: (é possível fazer uma média entre todos e preencher)"
      ],
      "metadata": {
        "id": "7AFZolFijrJf"
      },
      "execution_count": null,
      "outputs": []
    },
    {
      "cell_type": "markdown",
      "source": [
        "Ainda focando em melhorar o dataframe, vimos que as colunas \"Waketime\" e \"Bedtime\" não estão no forma datetime, o que pode ser útil em uma análise futura. Vamos fazer essa conversão."
      ],
      "metadata": {
        "id": "zWC7d6J1hFNY"
      }
    },
    {
      "cell_type": "code",
      "source": [
        "df['Bedtime'] = pd.to_datetime(df['Bedtime'], errors='coerce')\n",
        "df['Wakeup time'] = pd.to_datetime(df['Wakeup time'], errors='coerce')\n",
        "\n",
        "# vamos verificar se o Dtype dessas colunas mudaram de fato\n",
        "\n",
        "# Selecionando as colunas desejadas\n",
        "colunas_datatime = ['Bedtime', 'Wakeup time']\n",
        "df_selecionado = df[colunas_datatime]\n",
        "\n",
        "# Chamando o método info() no DataFrame selecionado\n",
        "df_selecionado.info()\n"
      ],
      "metadata": {
        "id": "nCtm6yJXhZbu",
        "outputId": "3bb2f03c-e2cd-4475-eed9-e1499fab2ac6",
        "colab": {
          "base_uri": "https://localhost:8080/"
        }
      },
      "execution_count": 19,
      "outputs": [
        {
          "output_type": "stream",
          "name": "stdout",
          "text": [
            "<class 'pandas.core.frame.DataFrame'>\n",
            "RangeIndex: 452 entries, 0 to 451\n",
            "Data columns (total 2 columns):\n",
            " #   Column       Non-Null Count  Dtype         \n",
            "---  ------       --------------  -----         \n",
            " 0   Bedtime      189 non-null    datetime64[ns]\n",
            " 1   Wakeup time  189 non-null    datetime64[ns]\n",
            "dtypes: datetime64[ns](2)\n",
            "memory usage: 7.2 KB\n"
          ]
        }
      ]
    },
    {
      "cell_type": "markdown",
      "source": [],
      "metadata": {
        "id": "Dv9Y5RCK_eVn"
      }
    }
  ]
}